{
 "cells": [
  {
   "cell_type": "code",
   "execution_count": 1,
   "id": "5d357833",
   "metadata": {},
   "outputs": [],
   "source": [
    "import numpy as np\n",
    "import matplotlib.pyplot as plt\n",
    "\n",
    "from scipy import integrate\n",
    "\n",
    "import os"
   ]
  },
  {
   "cell_type": "code",
   "execution_count": null,
   "id": "d4bad385",
   "metadata": {},
   "outputs": [],
   "source": []
  },
  {
   "cell_type": "code",
   "execution_count": 98,
   "id": "7a0a74da",
   "metadata": {},
   "outputs": [
    {
     "name": "stdout",
     "output_type": "stream",
     "text": [
      "[0.   0.05 0.1  0.15 0.2  0.3  0.35 0.4  0.45 0.5  0.55 0.6  0.65 0.7\n",
      " 0.75 0.8  0.85 0.9  0.95 1.  ]\n",
      "[0.   0.05 0.1  0.15 0.2  0.3  0.35 0.4  0.45 0.5  0.55 0.6  0.65 0.7\n",
      " 0.75 0.8  0.85 0.9  0.95 1.  ]\n",
      "[0.   0.05 0.1  0.15 0.2  0.3  0.35 0.4  0.45 0.5  0.55 0.6  0.65 0.7\n",
      " 0.75 0.8  0.85 0.9  0.95 1.  ]\n",
      "The results for the three seeds are:\n",
      "seed1: -214.63\n",
      "seed2: -216.86\n",
      "seed3: -217.72\n",
      "avg: -216.4\n",
      "[ 7.68277424  8.50056384 14.77240445 25.27861922 27.48047649 19.84299559\n",
      " 11.95979182 17.26232659  1.14515346  0.67993533  3.71270125  4.37932342\n",
      " 10.85639389 14.82706377 20.2178859   2.25868886 28.64843611 21.2491628\n",
      "  5.13987756  4.36574215]\n"
     ]
    }
   ],
   "source": [
    "# Load data for 3 different seeds: \n",
    "\n",
    "data_dir = '/cluster/home/cchampion/work/REEDS/NIK/TI_comparison/openff_20ns/complex/results'\n",
    "\n",
    "leg = '1_3'\n",
    "\n",
    "seed1 = np.load(data_dir + '/NIK_' + leg +'_seed1.npy')\n",
    "seed2 = np.load(data_dir + '/NIK_' + leg +'_seed2.npy')\n",
    "seed3 = np.load(data_dir + '/NIK_' + leg +'_seed3.npy')\n",
    "\n",
    "lambdas = np.arange(0, 1.001, 0.05)\n",
    "\n",
    "# Remove any undesired lambda points:\n",
    "\n",
    "_, new_seed1 = remove_lambda(seed1, lambdas, lambdas_remove = [0.25])\n",
    "_, new_seed2 = remove_lambda(seed2, lambdas, lambdas_remove = [0.25])\n",
    "new_lambdas, new_seed3 = remove_lambda(seed3, lambdas, lambdas_remove = [0.25])\n",
    "\n",
    "\n",
    "# Don't care about the std-devs here over\n",
    "\n",
    "#data_dh_dl = np.array([seed1[0], seed2[0], seed3[0]])\n",
    "data_dh_dl = np.array([new_seed1, new_seed2, new_seed3])\n",
    "\n",
    "\n",
    "averaged_dh_dls = np.average(data_dh_dl, axis=0)\n",
    "stddev_dh_dls = np.std(data_dh_dl, axis=0)\n",
    "\n",
    "root_dir_ti_leg = '/cluster/home/cchampion/work/REEDS/NIK/TI_comparison/openff_20ns/complex/leg_' + leg\n",
    "#integral_dh_dl = integrate_from_averaged_values(lambdas, averaged_dh_dls, stddev_dh_dls, root_dir_ti_leg)\n",
    "\n",
    "\n",
    "# Plot a converge plot \n",
    "#convergence_analysis(seed1[0], seed2[0], seed3[0], root_dir_ti_leg, reeds_val = 151.56)\n",
    "convergence_analysis(new_lambdas, new_seed1, new_seed2, new_seed3, root_dir_ti_leg, reeds_val = -211.25)\n",
    "\n",
    "\n",
    "# Plot standard deviations \n",
    "# standard_dev_dhdl(seed1[0], seed2[0], seed3[0], root_dir_ti_leg)\n",
    "standard_dev_dhdl(new_lambdas, new_seed1, new_seed2, new_seed3, root_dir_ti_leg)"
   ]
  },
  {
   "cell_type": "markdown",
   "id": "e2aba74b",
   "metadata": {},
   "source": [
    "# Remove data points which seem to be the culprit"
   ]
  },
  {
   "cell_type": "code",
   "execution_count": 89,
   "id": "f1ecb465",
   "metadata": {},
   "outputs": [],
   "source": [
    "import copy\n",
    "\n",
    "def remove_lambda(seed_data, lambdas, lambdas_remove):\n",
    "    \n",
    "    idx_remove = []\n",
    "    \n",
    "    for lr in lambdas_remove: idx_remove.append(np.where(lambdas == lr)[0][0])    \n",
    "    tmp = copy.deepcopy(seed_data)\n",
    "    \n",
    "    tmp_avgs = tmp[0]\n",
    "    tmp_stds = tmp[1]\n",
    "    \n",
    "    # remove the values we don't want\n",
    "    \n",
    "    lambdas = np.delete(lambdas, idx_remove)\n",
    "    \n",
    "    print (lambdas)\n",
    "    \n",
    "    tmp_avgs = np.delete(tmp_avgs, idx_remove, axis=0)\n",
    "    tmp_stds = np.delete(tmp_stds, idx_remove, axis=0)\n",
    "        \n",
    "    \n",
    "    return lambdas, tmp_avgs\n",
    "    "
   ]
  },
  {
   "cell_type": "code",
   "execution_count": 73,
   "id": "ed2f9b3b",
   "metadata": {},
   "outputs": [
    {
     "data": {
      "text/plain": [
       "array([[ 1,  2,  3,  4],\n",
       "       [ 5,  6,  7,  8],\n",
       "       [ 9, 10, 11, 12]])"
      ]
     },
     "execution_count": 73,
     "metadata": {},
     "output_type": "execute_result"
    }
   ],
   "source": [
    "arr = np.array([[1,2,3,4], [5,6,7,8], [9,10,11,12]])\n",
    "arr"
   ]
  },
  {
   "cell_type": "code",
   "execution_count": 74,
   "id": "9ac3946f",
   "metadata": {},
   "outputs": [],
   "source": [
    "arr = np.delete(arr, 0, axis=0)"
   ]
  },
  {
   "cell_type": "code",
   "execution_count": 75,
   "id": "18cb6cc3",
   "metadata": {},
   "outputs": [
    {
     "data": {
      "text/plain": [
       "array([[ 5,  6,  7,  8],\n",
       "       [ 9, 10, 11, 12]])"
      ]
     },
     "execution_count": 75,
     "metadata": {},
     "output_type": "execute_result"
    }
   ],
   "source": [
    "arr"
   ]
  },
  {
   "cell_type": "code",
   "execution_count": null,
   "id": "6f292d34",
   "metadata": {},
   "outputs": [],
   "source": []
  },
  {
   "cell_type": "code",
   "execution_count": 3,
   "id": "3aeff37c",
   "metadata": {},
   "outputs": [],
   "source": [
    "def integrate_from_averaged_values(lambdas, avg_dhdl, stddev_dhdl, root_dir_ti_leg, color = 'firebrick'):\n",
    "    \"\"\"\n",
    "        lambdas: List[float]\n",
    "            list of all lambdas\n",
    "        data_dhdl: Tuple (List[float], List[float])\n",
    "            tuple with average and standard deviations of the data\n",
    "        data_dvdl:Tuple (List[float], List[float])\n",
    "            tuple with average and standard deviations of the data\n",
    "        root_dir_ti_leg: str \n",
    "            directory to store data in\n",
    "    \"\"\"\n",
    "    # Make an output directory\n",
    "    \n",
    "    out_dir = root_dir_ti_leg + '/results'\n",
    "    if not os.path.isdir(out_dir):\n",
    "        os.mkdir(out_dir)\n",
    "    \n",
    "    #return avg_dhdl, avg_dvdl\n",
    "    \n",
    "    # We can do a convergence analysis of this integral (chuncks we all already printed out)\n",
    "    integral_dhdl = np.zeros(len(avg_dhdl.T))\n",
    "        \n",
    "    for i in range(len(avg_dhdl.T)):\n",
    "        integral_dhdl[i] = np.round(integrate.simps(x=lambdas, y=avg_dhdl.T[i]),2)\n",
    "\n",
    "    \n",
    "    # Write the results to a text file:\n",
    "    f = open(out_dir+'/ti_integral_averaged.txt', 'w')\n",
    "    f.write('This file contains the TI integral evaluated using the first n% of the data.\\n')\n",
    "    f.write('dH/d(lamda) values used to compute the integral where averaged over 3 random seeds.')\n",
    "    f.write('\\nPercent\\tdHdl\\tdVdl\\n')\n",
    "    \n",
    "    \n",
    "    for i, v1 in enumerate(integral_dhdl):\n",
    "        percent = str((i+1)/len(integral_dhdl)*100)\n",
    "        f.write(percent + '%\\t'+str(v1)+'\\n')\n",
    "    f.close()\n",
    "    \n",
    "    # Plot the TI profile\n",
    "    plot_TI_profile(lambdas, avg_dhdl.T[-1], stddev_dhdl.T[-1], integral_dhdl[-1], root_dir_ti_leg, color = color)\n",
    "    \n",
    "    return integral_dhdl"
   ]
  },
  {
   "cell_type": "code",
   "execution_count": 4,
   "id": "a6824ea5",
   "metadata": {},
   "outputs": [],
   "source": [
    "def plot_TI_profile(lambdas, avg_dXdl, std_dXdl, integral_dXdl, root_path, color = 'firebrick'):\n",
    "    \"\"\"\n",
    "        Plot the TI profile with averaged values\n",
    "    \"\"\"\n",
    "    \n",
    "    fig, axes = plt.subplots(ncols=1, nrows=1, figsize=[8,6])\n",
    "\n",
    "    # plot basic data\n",
    "    plt.errorbar(lambdas, avg_dXdl, std_dXdl, fmt='-', color = color, \n",
    "                 ecolor = 'black', elinewidth=1, capsize=2, capthick=1, barsabove=True)\n",
    "\n",
    "    plt.scatter(lambdas, avg_dXdl, marker='x', color='darkgrey', s=24)\n",
    "\n",
    "    # Label axes and plot title \n",
    "\n",
    "    plt.xlabel(r'$\\lambda$', fontsize = 16)\n",
    "    plt.xlim(0, 1)\n",
    "\n",
    "    plt.ylabel(r' ${\\partial V}$ / ${\\partial \\lambda}$ [kJ/mol]  ', fontsize = 16)\n",
    "    plt.ylim(1.25 * min(avg_dXdl), 1.25*max(avg_dXdl))\n",
    "    \n",
    "    # Get other names for title of the plot - note this can change depending on path!!!\n",
    "    names = root_path.split('/')\n",
    "        \n",
    "    legs = names[-1].split('_')\n",
    "        \n",
    "    title = 'TI profile - ' + names[-4] + ' ' + names[-3] + ' ' + legs[1] + r'$\\rightarrow$ ' + legs[2] \n",
    "\n",
    "    plt.title(title, fontsize=16)\n",
    "    \n",
    "    # Plot the value of the integral\n",
    "    \n",
    "    plt.text(0.5,max(avg_dXdl) * 1.1,r'$\\int_{0}^{1} \\frac{\\partial V}{\\partial \\lambda}$ ${d\\lambda} = %s $ kJ/mol'%integral_dXdl, \n",
    "             horizontalalignment='center', verticalalignment='center',fontsize = 12)\n",
    "\n",
    "    #ax.patch.set_facecolor('white')\n",
    "    fig.patch.set_facecolor('white')\n",
    "    plt.savefig(root_path+'/results/ti_profile.png', dpi=300)\n",
    "    \n",
    "    \n",
    "    plt.close()\n",
    "    return None"
   ]
  },
  {
   "cell_type": "markdown",
   "id": "e4067863",
   "metadata": {},
   "source": [
    "# Overlay three different TI profiles plots."
   ]
  },
  {
   "cell_type": "code",
   "execution_count": 93,
   "id": "3f6b83bd",
   "metadata": {},
   "outputs": [
    {
     "ename": "ValueError",
     "evalue": "The truth value of an array with more than one element is ambiguous. Use a.any() or a.all()",
     "output_type": "error",
     "traceback": [
      "\u001b[0;31m---------------------------------------------------------------------------\u001b[0m",
      "\u001b[0;31mValueError\u001b[0m                                Traceback (most recent call last)",
      "\u001b[0;32m<ipython-input-93-d7b72d96d47a>\u001b[0m in \u001b[0;36m<module>\u001b[0;34m\u001b[0m\n\u001b[1;32m     12\u001b[0m \u001b[0;34m\u001b[0m\u001b[0m\n\u001b[1;32m     13\u001b[0m \u001b[0mplt\u001b[0m\u001b[0;34m.\u001b[0m\u001b[0mylabel\u001b[0m\u001b[0;34m(\u001b[0m\u001b[0;34mr' ${\\partial V}$ / ${\\partial \\lambda}$ [kJ/mol]  '\u001b[0m\u001b[0;34m,\u001b[0m \u001b[0mfontsize\u001b[0m \u001b[0;34m=\u001b[0m \u001b[0;36m16\u001b[0m\u001b[0;34m)\u001b[0m\u001b[0;34m\u001b[0m\u001b[0;34m\u001b[0m\u001b[0m\n\u001b[0;32m---> 14\u001b[0;31m \u001b[0mplt\u001b[0m\u001b[0;34m.\u001b[0m\u001b[0mylim\u001b[0m\u001b[0;34m(\u001b[0m\u001b[0;36m1.25\u001b[0m \u001b[0;34m*\u001b[0m \u001b[0mmin\u001b[0m\u001b[0;34m(\u001b[0m\u001b[0mseed1\u001b[0m\u001b[0;34m)\u001b[0m\u001b[0;34m,\u001b[0m \u001b[0;36m1.25\u001b[0m\u001b[0;34m*\u001b[0m\u001b[0mmax\u001b[0m\u001b[0;34m(\u001b[0m\u001b[0mseed1\u001b[0m\u001b[0;34m)\u001b[0m\u001b[0;34m)\u001b[0m\u001b[0;34m\u001b[0m\u001b[0;34m\u001b[0m\u001b[0m\n\u001b[0m\u001b[1;32m     15\u001b[0m \u001b[0;34m\u001b[0m\u001b[0m\n\u001b[1;32m     16\u001b[0m \u001b[0mtitle\u001b[0m \u001b[0;34m=\u001b[0m \u001b[0;34m'TI profile - openFF 1'\u001b[0m \u001b[0;34m+\u001b[0m   \u001b[0;34mr'  $\\rightarrow$ '\u001b[0m \u001b[0;34m+\u001b[0m \u001b[0;34m' 4'\u001b[0m\u001b[0;34m\u001b[0m\u001b[0;34m\u001b[0m\u001b[0m\n",
      "\u001b[0;31mValueError\u001b[0m: The truth value of an array with more than one element is ambiguous. Use a.any() or a.all()"
     ]
    },
    {
     "data": {
      "image/png": "[encoded data removed]",
      "text/plain": [
       "<Figure size 576x432 with 1 Axes>"
      ]
     },
     "metadata": {
      "needs_background": "light"
     },
     "output_type": "display_data"
    }
   ],
   "source": [
    "fig, axes = plt.subplots(ncols=1, nrows=1, figsize=[8,6])\n",
    "\n",
    "plt.plot(new_lambdas, new_seed1, label = 'seed1')\n",
    "plt.plot(new_lambdas, new_seed2, label = 'seed2')\n",
    "plt.plot(new_lambdas, new_seed3, label = 'seed3')\n",
    "\n",
    "\n",
    "# Label axes and plot title \n",
    "\n",
    "plt.xlabel(r'$\\lambda$', fontsize = 16)\n",
    "plt.xlim(0, 1)\n",
    "\n",
    "plt.ylabel(r' ${\\partial V}$ / ${\\partial \\lambda}$ [kJ/mol]  ', fontsize = 16)\n",
    "plt.ylim(1.25 * min(seed1), 1.25*max(seed1))\n",
    "            \n",
    "title = 'TI profile - openFF 1' +   r'  $\\rightarrow$ ' + ' 4'\n",
    "\n",
    "plt.title(title, fontsize=16)\n",
    "    \n",
    "# Plot the value of the integral\n",
    "    \n",
    "#ax.patch.set_facecolor('white')\n",
    "fig.patch.set_facecolor('white')\n",
    "    \n",
    "    \n",
    "\n",
    "plt.legend()"
   ]
  },
  {
   "cell_type": "markdown",
   "id": "81e109a9",
   "metadata": {},
   "source": [
    "# Convergence analysis plots"
   ]
  },
  {
   "cell_type": "code",
   "execution_count": 94,
   "id": "4e361581",
   "metadata": {},
   "outputs": [],
   "source": [
    "def convergence_analysis(lambdas, seed1, seed2, seed3, leg_dir, reeds_val):\n",
    "        num_seeds = 3 \n",
    "        \n",
    "        integral_dhdl = np.zeros([num_seeds+1, len(seed1.T)])\n",
    "\n",
    "        data_dh_dl = np.array([seed1, seed2, seed3])\n",
    "        averaged_dh_dls = np.average(data_dh_dl, axis=0)\n",
    "        \n",
    "        #print (averaged_dh_dls)\n",
    "        \n",
    "        for i, seed in enumerate([seed1, seed2, seed3, averaged_dh_dls]):\n",
    "            for j in range(len(seed.T)): # each convergence\n",
    "                tmp = np.round(integrate.simps(x=lambdas, y=seed.T[j]),2)\n",
    "                integral_dhdl[i][j] = tmp\n",
    "                \n",
    "        \n",
    "        # Plot the data\n",
    "        \n",
    "        # Draw a dashed line for the RE-EDS result\n",
    "        plt.axhline(y=reeds_val, color = 'darkgrey', linestyle = '--', label = 're-eds')\n",
    "        \n",
    "        time = np.arange(0, 19, 1.9) + 1.9\n",
    "                \n",
    "        plt.plot(time, integral_dhdl[0], label = 'seed1')\n",
    "        plt.plot(time, integral_dhdl[1], label = 'seed2')\n",
    "        plt.plot(time, integral_dhdl[2], label = 'seed3')\n",
    "        plt.plot(time, integral_dhdl[3], label = 'avg', color = 'black', lw = 4)\n",
    "        \n",
    "        plt.xlabel('time [ns]', fontsize = 16)\n",
    "        plt.xlim(0, 19)\n",
    "    \n",
    "        plt.ylabel(r' ${\\Delta G}$ [kJ/mol]  ', fontsize = 16)\n",
    "        \n",
    "        leg = leg_dir.split('/')[-1].replace('leg_', '')\n",
    "        \n",
    "        plt.title('TI convergence - openFF ' + leg[0] + r' $\\rightarrow{}$ ' + leg[-1])\n",
    "        \n",
    "        plt.legend()\n",
    "\n",
    "        plt.savefig(leg_dir+'/results/ti_convergence.png', dpi=300)\n",
    "        \n",
    "        print ('The results for the three seeds are:')\n",
    "        print ('seed1: ' + str(integral_dhdl[0][-1]))\n",
    "        print ('seed2: ' + str(integral_dhdl[1][-1]))\n",
    "        print ('seed3: ' + str(integral_dhdl[2][-1]))\n",
    "        print ('avg: ' + str(integral_dhdl[3][-1]))\n",
    "        \n",
    "        plt.close()"
   ]
  },
  {
   "cell_type": "code",
   "execution_count": 95,
   "id": "5dd122f3",
   "metadata": {},
   "outputs": [],
   "source": [
    "def standard_dev_dhdl(lambdas, seed1, seed2, seed3, leg_dir):\n",
    "        \n",
    "        data_dh_dl = np.array([seed1.T[-1], seed2.T[-1], seed3.T[-1]])\n",
    "        stddev_dh_dls = np.std(data_dh_dl, axis=0)\n",
    "        \n",
    "        # Plot the data\n",
    "        \n",
    "        print (stddev_dh_dls)\n",
    "        \n",
    "        plt.scatter(lambdas, stddev_dh_dls, label = 'avg', color = 'black')\n",
    "        \n",
    "        plt.xlabel(r'$\\lambda$', fontsize = 16)\n",
    "    \n",
    "        plt.ylabel(r' $\\sigma{}  (dH/d\\lambda)$ [kJ/mol]  ', fontsize = 16)\n",
    "        \n",
    "        leg = leg_dir.split('/')[-1].replace('leg_', '')\n",
    "        \n",
    "        plt.title('TI convergence - openFF ' + leg[0] + r' $\\rightarrow{}$ ' + leg[-1])\n",
    "        \n",
    "        plt.legend()\n",
    "\n",
    "        plt.savefig(leg_dir+'/results/dh_dl_stddev.png', dpi=300)\n",
    "        plt.close()"
   ]
  },
  {
   "cell_type": "code",
   "execution_count": null,
   "id": "7049e915",
   "metadata": {},
   "outputs": [],
   "source": []
  }
 ],
 "metadata": {
  "kernelspec": {
   "display_name": "Python [conda env:re-eds] *",
   "language": "python",
   "name": "conda-env-re-eds-py"
  },
  "language_info": {
   "codemirror_mode": {
    "name": "ipython",
    "version": 3
   },
   "file_extension": ".py",
   "mimetype": "text/x-python",
   "name": "python",
   "nbconvert_exporter": "python",
   "pygments_lexer": "ipython3",
   "version": "3.9.5"
  }
 },
 "nbformat": 4,
 "nbformat_minor": 5
}
