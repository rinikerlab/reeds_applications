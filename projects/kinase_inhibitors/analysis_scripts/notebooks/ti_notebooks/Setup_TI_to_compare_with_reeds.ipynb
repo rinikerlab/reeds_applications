{
 "cells": [
  {
   "cell_type": "code",
   "execution_count": 16,
   "id": "242669e8",
   "metadata": {},
   "outputs": [],
   "source": [
    "import pygromos\n",
    "from pygromos.files.gromos_system import Gromos_System\n",
    "from pygromos.files.blocks import imd_blocks\n",
    "from pygromos.hpc_queuing.submission_systems.lsf import LSF\n",
    "from pygromos.utils import bash\n",
    "\n",
    "import os\n",
    "import numpy as np\n",
    "import glob"
   ]
  },
  {
   "cell_type": "markdown",
   "id": "1a4423c3",
   "metadata": {},
   "source": [
    "# Step 1 : Read in general system information \n",
    "(from RE-EDS input files and topologies)"
   ]
  },
  {
   "cell_type": "markdown",
   "id": "c7fd6102",
   "metadata": {},
   "source": [
    "### Define important path"
   ]
  },
  {
   "cell_type": "code",
   "execution_count": 17,
   "id": "64089102",
   "metadata": {},
   "outputs": [
    {
     "name": "stdout",
     "output_type": "stream",
     "text": [
      "we will be working with 6 ligands\n"
     ]
    }
   ],
   "source": [
    "# Every path will be created w.r.t. root_dir\n",
    "# The topologies and cnfs used in the RE-EDS run to which we will compare are in the directories listed below.\n",
    "\n",
    "root_dir = '/cluster/home/cchampion/work/REEDS/NIK/TI_comparison/openff/solvent'\n",
    "input_topols_dir = root_dir + '/reeds_input'\n",
    "input_ssm_cnfs   = root_dir + '/ssm_confs'\n",
    "\n",
    "num_ligs = len(glob.glob(input_ssm_cnfs + '/*.cnf'))\n",
    "\n",
    "print ('we will be working with ' + str(num_ligs) + ' ligands')"
   ]
  },
  {
   "cell_type": "code",
   "execution_count": 18,
   "id": "c00b2ce2",
   "metadata": {},
   "outputs": [
    {
     "name": "stdout",
     "output_type": "stream",
     "text": [
      "Warning - In FORCE block: Number of energy groups does not match number of last atoms given!\n"
     ]
    }
   ],
   "source": [
    "# Initial IMD file:\n",
    "from pygromos.files.simulation_parameters.imd import Imd\n",
    "from pygromos.files.blocks import imd_blocks\n",
    "\n",
    "template_ti_imd_path = input_topols_dir + '/ti_prod.imd'\n",
    "template_ti_imd = Imd(template_ti_imd_path)\n",
    "\n",
    "# note: this file will have to be modified extensively to ensure \n",
    "# correct number of atoms in energy groups, force blocks, etc."
   ]
  },
  {
   "cell_type": "code",
   "execution_count": 19,
   "id": "61d4434e",
   "metadata": {},
   "outputs": [
    {
     "name": "stdout",
     "output_type": "stream",
     "text": [
      "reading in: /cluster/home/cchampion/work/REEDS/NIK/TI_comparison/openff/solvent/ssm_confs/REEDS_SSM_state_1.cnf\n",
      "reading in: /cluster/home/cchampion/work/REEDS/NIK/TI_comparison/openff/solvent/ssm_confs/REEDS_SSM_state_2.cnf\n",
      "reading in: /cluster/home/cchampion/work/REEDS/NIK/TI_comparison/openff/solvent/ssm_confs/REEDS_SSM_state_3.cnf\n",
      "reading in: /cluster/home/cchampion/work/REEDS/NIK/TI_comparison/openff/solvent/ssm_confs/REEDS_SSM_state_4.cnf\n",
      "reading in: /cluster/home/cchampion/work/REEDS/NIK/TI_comparison/openff/solvent/ssm_confs/REEDS_SSM_state_5.cnf\n",
      "reading in: /cluster/home/cchampion/work/REEDS/NIK/TI_comparison/openff/solvent/ssm_confs/REEDS_SSM_state_6.cnf\n"
     ]
    }
   ],
   "source": [
    "# Import the initial SSM coordinates\n",
    "from pygromos.files.coord import Cnf\n",
    "# Warning! Alphabetical sorting\n",
    "list_coords = sorted(glob.glob(input_ssm_cnfs + '/*.cnf'))\n",
    "\n",
    "ssm_confs = []\n",
    "\n",
    "for ssm_conf in list_coords:\n",
    "    print ('reading in: ' + ssm_conf)\n",
    "    tmp_cnf = Cnf(ssm_conf)\n",
    "    ssm_confs.append(tmp_cnf)"
   ]
  },
  {
   "cell_type": "code",
   "execution_count": 20,
   "id": "72073622",
   "metadata": {},
   "outputs": [],
   "source": [
    "# These conformations have all N ligands used in the RE-EDS simulation. \n",
    "# So we need to figure out how many atoms there are of each type so we can reduce our coordinates accordingly later on.\n",
    "# These can simply be read from the first file.\n",
    "\n",
    "# for k in ssm_confs[0].residues.keys():\n",
    "import copy\n",
    "\n",
    "template_cnf = copy.deepcopy(ssm_confs[0])\n",
    "\n",
    "num_atoms_ligs = np.zeros(num_ligs)\n",
    "for i in range(1, num_ligs+1):\n",
    "    num_atoms_ligs[i-1] = template_cnf.residues['LI'+str(i)][i]\n",
    "\n",
    "num_solv_mols = len(template_cnf.residues['SOLV'])\n",
    "\n",
    "num_protein_atoms = len(template_cnf.POSITION) - np.sum(num_atoms_ligs) - num_solv_mols*3"
   ]
  },
  {
   "cell_type": "markdown",
   "id": "08aa32e5",
   "metadata": {},
   "source": [
    "### Print out what was read in to check number of atoms are ok"
   ]
  },
  {
   "cell_type": "code",
   "execution_count": 21,
   "id": "806805f8",
   "metadata": {},
   "outputs": [
    {
     "name": "stdout",
     "output_type": "stream",
     "text": [
      "[39. 45. 45. 46. 41. 42.] number of atoms per ligand\n",
      "solvated in 1513 water molecules\n"
     ]
    }
   ],
   "source": [
    "print (str(num_atoms_ligs) + ' number of atoms per ligand')\n",
    "if num_protein_atoms:\n",
    "    print ('in complex with a ' + str(num_protein_atoms) + ' atom protein')\n",
    "print ('solvated in ' + str(num_solv_mols) + ' water molecules')"
   ]
  },
  {
   "cell_type": "markdown",
   "id": "4956ea88",
   "metadata": {},
   "source": []
  },
  {
   "cell_type": "markdown",
   "id": "f612486a",
   "metadata": {},
   "source": [
    "## Step 2 : Produce basic input directories for all alchemical transformations of interest"
   ]
  },
  {
   "cell_type": "markdown",
   "id": "e245b4b7",
   "metadata": {},
   "source": [
    "Here we create a subdirectory called 'X_Y' with X and Y being the indices of the ligands for which we perform the transformation. \n",
    "\n",
    "We will create an appropriate reduced topology and input file for this transformation\n",
    "\n",
    "Later we can use the template imd, ptp, and top generated to run the simulations."
   ]
  },
  {
   "cell_type": "code",
   "execution_count": 22,
   "id": "969c3790",
   "metadata": {},
   "outputs": [],
   "source": [
    "# note: this function assumes the file is ordered such that ligands are before protein\n",
    "\n",
    "def reduce_reeds_topology_for_TI(in_top_path, pair, with_protein, out_path, prefix):\n",
    "    command = \"red_top @topo \" + in_top_path + \" @atoms \" + str(pair[0]) + \":a \" + str(pair[1]) + \":a \"\n",
    "    if with_protein:\n",
    "        command += str(with_protein) + \":a \"\n",
    "    \n",
    "    # Specify the output file\n",
    "    out_topology = out_path + '/' + prefix + \"_TI_\" + str(pair[0]) + \"_\" +str(pair[1]) + \".top\"\n",
    "    \n",
    "    command+= \" > \" + out_topology\n",
    "    \n",
    "    print ('executing: ' + command)\n",
    "    os.system(command)\n",
    "    \n",
    "    return out_topology"
   ]
  },
  {
   "cell_type": "code",
   "execution_count": 24,
   "id": "ecbb935b",
   "metadata": {},
   "outputs": [],
   "source": [
    "#\n",
    "# notes:\n",
    "# this functions sets the DUMMY atom type code as the last atom type code we have\n",
    "# as this is the gromos convention. \n",
    "\n",
    "def prepare_ptp(input_pairwise_top):\n",
    "    \n",
    "    input_dir = '/'.join(input_pairwise_top.split('/')[:-1])\n",
    "        \n",
    "    grom_system = Gromos_System(in_top_path=input_pairwise_top, system_name=\"TEST_solv\", work_folder=input_dir)\n",
    "    \n",
    "    from pygromos.files.topology.ptp import Pertubation_topology\n",
    "    from pygromos.files.blocks.topology_blocks import pertubation_lam_state, atom_lam_pertubation_state, PERTATOMPARAM, TITLE\n",
    "\n",
    "    pert_atoms=[]\n",
    "    for atom_line in grom_system.top.SOLUTEATOM:\n",
    "        \n",
    "        # Exit as soon as we reach residue 3 ! \n",
    "        # This assumes the two states A and B are positioned 1 and 2 in the file\n",
    "        \n",
    "        if atom_line.MRES >= 3: break\n",
    "        \n",
    "        states = {}\n",
    "        phys_state = pertubation_lam_state(IAC=atom_line.IAC, MASS=atom_line.MASS, CHARGE=atom_line.CG)\n",
    "        states = {atom_line.MRES: phys_state }\n",
    "                \n",
    "        pert_atom = atom_lam_pertubation_state(atom_line.ATNM,RES=atom_line.MRES,NAME=atom_line.PANM, STATES=states)\n",
    "        pert_atoms.append(pert_atom)\n",
    "        \n",
    "    dummy_IAC = grom_system.top.ATOMTYPENAME.content[0][0]\n",
    "    \n",
    "    pert_atom_block = PERTATOMPARAM(pert_atoms, dummy_IAC = dummy_IAC)\n",
    "\n",
    "    # Generate ptp file\n",
    "    grom_system.ptp = Pertubation_topology(in_value = None)\n",
    "    grom_system.ptp.PERTATOMPARAM = pert_atom_block\n",
    "    \n",
    "    grom_system.ptp.TITLE = TITLE(\"Automatic generated pertubation file. \")\n",
    "    \n",
    "    output_perturbed_top = input_pairwise_top.replace('top', 'ptp')\n",
    "    grom_system.ptp.write(out_path = output_perturbed_top)\n",
    "    \n",
    "    return output_perturbed_top\n",
    "    \n",
    "    \n",
    "    "
   ]
  },
  {
   "cell_type": "markdown",
   "id": "307fe5d3",
   "metadata": {},
   "source": [
    "### execute the function above for all pairs we wish to work with"
   ]
  },
  {
   "cell_type": "code",
   "execution_count": 25,
   "id": "78c09d83",
   "metadata": {},
   "outputs": [],
   "source": [
    "pairs_to_calculate = [(1, 2), (1, 3), (1, 4), (1, 5), (1, 6)]"
   ]
  },
  {
   "cell_type": "code",
   "execution_count": 26,
   "id": "149f357a",
   "metadata": {},
   "outputs": [
    {
     "name": "stdout",
     "output_type": "stream",
     "text": [
      "/cluster/home/cchampion/work/REEDS/NIK/TI_comparison/openff/solvent\n",
      "executing: red_top @topo /cluster/home/cchampion/work/REEDS/NIK/TI_comparison/openff/solvent/reeds_input/NIK_ligands.top @atoms 1:a 2:a  > /cluster/home/cchampion/work/REEDS/NIK/TI_comparison/openff/solvent/leg_1_2/input//NIK_openff_TI_1_2.top\n",
      "\n",
      "\n",
      "==================\n",
      "\tCHECK dependencies\n",
      "\n",
      "Check /cluster/home/cchampion/work/REEDS/NIK/TI_comparison/openff/solvent/leg_1_2/input/\n",
      "Check /cluster/home/cchampion/work/REEDS/NIK/TI_comparison/openff/solvent/leg_1_2/input//NIK_openff_TI_1_2.top\n",
      "/cluster/home/cchampion/work/REEDS/NIK/TI_comparison/openff/solvent/leg_1_2/input/\n",
      "/cluster/home/cchampion/work/REEDS/NIK/TI_comparison/openff/solvent/leg_1_2/input//NIK_openff_TI_1_2.top\n",
      "All dependencies are correct! \n",
      "\n",
      "\n",
      "Generate Empty:  imd\n",
      "Parsing File:  top\n",
      "Generate Empty:  cnf\n",
      "executing: red_top @topo /cluster/home/cchampion/work/REEDS/NIK/TI_comparison/openff/solvent/reeds_input/NIK_ligands.top @atoms 1:a 3:a  > /cluster/home/cchampion/work/REEDS/NIK/TI_comparison/openff/solvent/leg_1_3/input//NIK_openff_TI_1_3.top\n",
      "\n",
      "\n",
      "==================\n",
      "\tCHECK dependencies\n",
      "\n",
      "Check /cluster/home/cchampion/work/REEDS/NIK/TI_comparison/openff/solvent/leg_1_3/input/\n",
      "Check /cluster/home/cchampion/work/REEDS/NIK/TI_comparison/openff/solvent/leg_1_3/input//NIK_openff_TI_1_3.top\n",
      "/cluster/home/cchampion/work/REEDS/NIK/TI_comparison/openff/solvent/leg_1_3/input/\n",
      "/cluster/home/cchampion/work/REEDS/NIK/TI_comparison/openff/solvent/leg_1_3/input//NIK_openff_TI_1_3.top\n",
      "All dependencies are correct! \n",
      "\n",
      "\n",
      "Generate Empty:  imd\n",
      "Parsing File:  top\n",
      "Generate Empty:  cnf\n",
      "executing: red_top @topo /cluster/home/cchampion/work/REEDS/NIK/TI_comparison/openff/solvent/reeds_input/NIK_ligands.top @atoms 1:a 4:a  > /cluster/home/cchampion/work/REEDS/NIK/TI_comparison/openff/solvent/leg_1_4/input//NIK_openff_TI_1_4.top\n",
      "\n",
      "\n",
      "==================\n",
      "\tCHECK dependencies\n",
      "\n",
      "Check /cluster/home/cchampion/work/REEDS/NIK/TI_comparison/openff/solvent/leg_1_4/input/\n",
      "Check /cluster/home/cchampion/work/REEDS/NIK/TI_comparison/openff/solvent/leg_1_4/input//NIK_openff_TI_1_4.top\n",
      "/cluster/home/cchampion/work/REEDS/NIK/TI_comparison/openff/solvent/leg_1_4/input/\n",
      "/cluster/home/cchampion/work/REEDS/NIK/TI_comparison/openff/solvent/leg_1_4/input//NIK_openff_TI_1_4.top\n",
      "All dependencies are correct! \n",
      "\n",
      "\n",
      "Generate Empty:  imd\n",
      "Parsing File:  top\n",
      "Generate Empty:  cnf\n",
      "executing: red_top @topo /cluster/home/cchampion/work/REEDS/NIK/TI_comparison/openff/solvent/reeds_input/NIK_ligands.top @atoms 1:a 5:a  > /cluster/home/cchampion/work/REEDS/NIK/TI_comparison/openff/solvent/leg_1_5/input//NIK_openff_TI_1_5.top\n",
      "\n",
      "\n",
      "==================\n",
      "\tCHECK dependencies\n",
      "\n",
      "Check /cluster/home/cchampion/work/REEDS/NIK/TI_comparison/openff/solvent/leg_1_5/input/\n",
      "Check /cluster/home/cchampion/work/REEDS/NIK/TI_comparison/openff/solvent/leg_1_5/input//NIK_openff_TI_1_5.top\n",
      "/cluster/home/cchampion/work/REEDS/NIK/TI_comparison/openff/solvent/leg_1_5/input/\n",
      "/cluster/home/cchampion/work/REEDS/NIK/TI_comparison/openff/solvent/leg_1_5/input//NIK_openff_TI_1_5.top\n",
      "All dependencies are correct! \n",
      "\n",
      "\n",
      "Generate Empty:  imd\n",
      "Parsing File:  top\n",
      "Generate Empty:  cnf\n",
      "executing: red_top @topo /cluster/home/cchampion/work/REEDS/NIK/TI_comparison/openff/solvent/reeds_input/NIK_ligands.top @atoms 1:a 6:a  > /cluster/home/cchampion/work/REEDS/NIK/TI_comparison/openff/solvent/leg_1_6/input//NIK_openff_TI_1_6.top\n",
      "\n",
      "\n",
      "==================\n",
      "\tCHECK dependencies\n",
      "\n",
      "Check /cluster/home/cchampion/work/REEDS/NIK/TI_comparison/openff/solvent/leg_1_6/input/\n",
      "Check /cluster/home/cchampion/work/REEDS/NIK/TI_comparison/openff/solvent/leg_1_6/input//NIK_openff_TI_1_6.top\n",
      "/cluster/home/cchampion/work/REEDS/NIK/TI_comparison/openff/solvent/leg_1_6/input/\n",
      "/cluster/home/cchampion/work/REEDS/NIK/TI_comparison/openff/solvent/leg_1_6/input//NIK_openff_TI_1_6.top\n",
      "All dependencies are correct! \n",
      "\n",
      "\n",
      "Generate Empty:  imd\n",
      "Parsing File:  top\n",
      "Generate Empty:  cnf\n"
     ]
    }
   ],
   "source": [
    "print (root_dir)\n",
    "\n",
    "for a, b in pairs_to_calculate:\n",
    "    \n",
    "    sub_dir = root_dir + '/leg_'+ str(a) + '_' + str(b)\n",
    "    \n",
    "    bash.make_folder(sub_dir)\n",
    "    bash.make_folder(sub_dir + '/input')\n",
    "    \n",
    "    # Reduce the topologies\n",
    "    #\n",
    "    # NOTE if you want to use the protein\n",
    "    # make sure to change the following!!!\n",
    "    \n",
    "    with_protein = 0\n",
    "    #with_protein = num_ligs+1\n",
    "    \n",
    "    out_topology = reduce_reeds_topology_for_TI(in_top_path = input_topols_dir + '/NIK_ligands.top',\n",
    "                                                pair = (a, b), \n",
    "                                                with_protein = with_protein, \n",
    "                                                out_path = sub_dir + '/input/', \n",
    "                                                prefix= 'NIK_openff')\n",
    "    \n",
    "    out_ptp = prepare_ptp(out_topology)\n",
    "  \n",
    "    \n"
   ]
  },
  {
   "cell_type": "markdown",
   "id": "9a62efb9",
   "metadata": {},
   "source": [
    "### Adjust IMD FILE\n",
    "\n",
    "Here we modify the imd so the Force blocks etc match the fact we removed atoms from the system compared to RE-EDS\n",
    "\n",
    "We also adjust the simulation time here !"
   ]
  },
  {
   "cell_type": "code",
   "execution_count": 27,
   "id": "3c714148",
   "metadata": {},
   "outputs": [],
   "source": [
    "import copy\n",
    "tmp_imd = copy.deepcopy(template_ti_imd)"
   ]
  },
  {
   "cell_type": "code",
   "execution_count": 28,
   "id": "f88e3ec1",
   "metadata": {},
   "outputs": [],
   "source": [
    "# note: there might be some stuff to add here \n",
    "\n",
    "for a, b in pairs_to_calculate:\n",
    "    tmp_imd = copy.copy(template_ti_imd)\n",
    "    \n",
    "    num_atoms_ligA = int(num_atoms_ligs[a-1])\n",
    "    num_atoms_ligB = int(num_atoms_ligs[b-1])\n",
    "    \n",
    "    tmp_imd.FORCE.BONDS = 0\n",
    "    \n",
    "    tmp_imd.SYSTEM.NSM = num_solv_mols\n",
    "    \n",
    "    # Modifications common to both solvent/protein - could be done elsewhere later:\n",
    "    \n",
    "    tmp_imd.INITIALISE.NTIVEL = 1\n",
    "    tmp_imd.INITIALISE.NTISHK = 3\n",
    "    tmp_imd.INITIALISE.NTISHI = 1\n",
    "    \n",
    "    # Printout frequency\n",
    "    \n",
    "    tmp_imd.WRITETRAJ.NTWE = 500\n",
    "    tmp_imd.WRITETRAJ.NTWG = 500\n",
    "    \n",
    "    # Simulation time / number of steps\n",
    "    # \n",
    "    # 500000 = 1ns chucnks \n",
    "    # 250000 = 500ps chuncks (good for protein complex in 24h hour queue) \n",
    "    #\n",
    "    tmp_imd.STEP.NSTLIM = 500000\n",
    "    \n",
    "    \n",
    "    \n",
    "    if num_protein_atoms: # When there is a protein, calculate the atom numbering\n",
    "        tmp_imd.FORCE.NEGR = 4\n",
    "        tmp_imd.FORCE.NRE = [num_atoms_ligA, \n",
    "                             num_atoms_ligA+num_atoms_ligB,\n",
    "                             int(num_atoms_ligA+num_atoms_ligB+num_protein_atoms),\n",
    "                             int(num_protein_atoms+num_atoms_ligA+num_atoms_ligB+num_solv_mols*3)\n",
    "                            ]\n",
    "        \n",
    "        # Set proper multibath \n",
    "        multibath_block =  imd_blocks.MULTIBATH(ALGORITHM=0, NBATHS=3,\n",
    "                                                TEMP0= [298.15] * 3,\n",
    "                                                TAU=[0.1] * 3,\n",
    "                                                DOFSET=3,\n",
    "                                                LAST= [num_atoms_ligA+num_atoms_ligB, \n",
    "                                                       int(num_protein_atoms+num_atoms_ligA+num_atoms_ligB), \n",
    "                                                       int(num_protein_atoms+num_atoms_ligA+num_atoms_ligB+num_solv_mols*3)\n",
    "                                                      ], \n",
    "                                                COMBATH=range(1,4),\n",
    "                                                IRBATH=range(1,4))\n",
    "        tmp_imd.MULTIBATH = multibath_block        \n",
    "        \n",
    "    else: # When there is no protein just write the values for the two ligands of interest\n",
    "        tmp_imd.FORCE.NEGR = 3 # just out two ligands + solvent\n",
    "        tmp_imd.FORCE.NRE = [num_atoms_ligA, \n",
    "                             num_atoms_ligA+num_atoms_ligB,\n",
    "                            int(num_atoms_ligA+num_atoms_ligB+num_solv_mols*3)\n",
    "                            ]\n",
    "        \n",
    "        # Set proper multibath:\n",
    "        multibath_block =  imd_blocks.MULTIBATH(ALGORITHM=0, NBATHS=2,\n",
    "                                                TEMP0= [298.15] * 2,\n",
    "                                                TAU=[0.1] * 2,\n",
    "                                                DOFSET=2,\n",
    "                                                LAST= [num_atoms_ligA+num_atoms_ligB, \n",
    "                                                       int(num_atoms_ligA+num_atoms_ligB+num_solv_mols*3)\n",
    "                                                      ], \n",
    "                                                COMBATH=range(1,3),\n",
    "                                                IRBATH=range(1,3))\n",
    "        tmp_imd.MULTIBATH = multibath_block\n",
    "        \n",
    " \n",
    "    # one all proper corrections have been made save the file:\n",
    "    \n",
    "    out_imd = root_dir + '/leg_'+ str(a) + '_' + str(b) + '/input/NIK_TI_' + str(a) + '_' + str(b) +'.imd'\n",
    "    tmp_imd.write(out_imd)\n",
    "    \n",
    "    "
   ]
  },
  {
   "cell_type": "markdown",
   "id": "911121fa",
   "metadata": {},
   "source": [
    "#### Step 2 bis - Update the distance restraint files.\n",
    "\n",
    "For now we will do this step manually\n"
   ]
  },
  {
   "cell_type": "markdown",
   "id": "550941c5",
   "metadata": {},
   "source": [
    "## Step 3: Reduce the cnf files"
   ]
  },
  {
   "cell_type": "code",
   "execution_count": 29,
   "id": "2240f257",
   "metadata": {},
   "outputs": [
    {
     "name": "stdout",
     "output_type": "stream",
     "text": [
      "working on leg: 1 2\n",
      "deleting LI3\n",
      "deleting LI4\n",
      "deleting LI5\n",
      "deleting LI6\n",
      "file written in: /cluster/home/cchampion/work/REEDS/NIK/TI_comparison/openff/solvent/leg_1_2/input/NIK_TI_leg_1_2_ssm_1.cnf\n",
      "working on leg: 1 3\n",
      "deleting LI2\n",
      "deleting LI4\n",
      "deleting LI5\n",
      "deleting LI6\n",
      "file written in: /cluster/home/cchampion/work/REEDS/NIK/TI_comparison/openff/solvent/leg_1_3/input/NIK_TI_leg_1_3_ssm_1.cnf\n",
      "working on leg: 1 4\n",
      "deleting LI2\n",
      "deleting LI3\n",
      "deleting LI5\n",
      "deleting LI6\n",
      "file written in: /cluster/home/cchampion/work/REEDS/NIK/TI_comparison/openff/solvent/leg_1_4/input/NIK_TI_leg_1_4_ssm_1.cnf\n",
      "working on leg: 1 5\n",
      "deleting LI2\n",
      "deleting LI3\n",
      "deleting LI4\n",
      "deleting LI6\n",
      "file written in: /cluster/home/cchampion/work/REEDS/NIK/TI_comparison/openff/solvent/leg_1_5/input/NIK_TI_leg_1_5_ssm_1.cnf\n",
      "working on leg: 1 6\n",
      "deleting LI2\n",
      "deleting LI3\n",
      "deleting LI4\n",
      "deleting LI5\n",
      "file written in: /cluster/home/cchampion/work/REEDS/NIK/TI_comparison/openff/solvent/leg_1_6/input/NIK_TI_leg_1_6_ssm_1.cnf\n"
     ]
    }
   ],
   "source": [
    "for a, b in pairs_to_calculate:\n",
    "    # directory in which we will save the data\n",
    "    sub_dir = root_dir + '/leg_'+ str(a) + '_' + str(b)\n",
    "    \n",
    "    tmp_cnf_a = copy.deepcopy(ssm_confs[a-1])\n",
    "    tmp_cnf_b = copy.deepcopy(ssm_confs[b-1])\n",
    "    \n",
    "    # We will use a starting conformation from both ends.\n",
    "    \n",
    "    print ('working on leg: ' + str(a) + ' ' + str(b))\n",
    "    \n",
    "    for i in range(1, num_ligs+1):\n",
    "        if i == a or i == b: continue\n",
    "        \n",
    "        resname = 'LI' + str(i)\n",
    "        \n",
    "        print ('deleting ' + resname)\n",
    "        tmp_cnf_a.delete_residue(resName=resname)\n",
    "        tmp_cnf_b.delete_residue(resName=resname)\n",
    "\n",
    "    # Print out the new cnfs (renumbered to file)\n",
    "    print ('file written in: ' + sub_dir + '/input/' + 'NIK_TI_leg_' + str(a) + '_' + str(b) + '_ssm_'+str(a)+'.cnf')\n",
    "    tmp_cnf_a.write(sub_dir + '/input/' + 'NIK_TI_leg_' + str(a) + '_' + str(b) + '_ssm_'+str(a)+'.cnf')\n",
    "    tmp_cnf_b.write(sub_dir + '/input/' + 'NIK_TI_leg_' + str(a) + '_' + str(b) + '_ssm_'+str(b)+'.cnf')"
   ]
  },
  {
   "cell_type": "markdown",
   "id": "912a6aa6",
   "metadata": {},
   "source": [
    "# Step 4: Make the distance restraint files"
   ]
  },
  {
   "cell_type": "markdown",
   "id": "c43e88d3",
   "metadata": {},
   "source": [
    "We just do this manually and copy them manaully for now"
   ]
  },
  {
   "cell_type": "code",
   "execution_count": null,
   "id": "0f552767",
   "metadata": {},
   "outputs": [],
   "source": []
  },
  {
   "cell_type": "code",
   "execution_count": null,
   "id": "a36c4fe6",
   "metadata": {},
   "outputs": [],
   "source": []
  },
  {
   "cell_type": "code",
   "execution_count": null,
   "id": "347b9f13",
   "metadata": {},
   "outputs": [],
   "source": []
  },
  {
   "cell_type": "code",
   "execution_count": null,
   "id": "07de4f4b",
   "metadata": {},
   "outputs": [],
   "source": []
  },
  {
   "cell_type": "code",
   "execution_count": null,
   "id": "c0e00be1",
   "metadata": {},
   "outputs": [],
   "source": []
  },
  {
   "cell_type": "code",
   "execution_count": null,
   "id": "d4c3b71c",
   "metadata": {},
   "outputs": [],
   "source": []
  },
  {
   "cell_type": "code",
   "execution_count": null,
   "id": "1f21be6f",
   "metadata": {},
   "outputs": [],
   "source": []
  },
  {
   "cell_type": "code",
   "execution_count": null,
   "id": "b82608ed",
   "metadata": {},
   "outputs": [],
   "source": []
  }
 ],
 "metadata": {
  "kernelspec": {
   "display_name": "Python [conda env:re-eds] *",
   "language": "python",
   "name": "conda-env-re-eds-py"
  },
  "language_info": {
   "codemirror_mode": {
    "name": "ipython",
    "version": 3
   },
   "file_extension": ".py",
   "mimetype": "text/x-python",
   "name": "python",
   "nbconvert_exporter": "python",
   "pygments_lexer": "ipython3",
   "version": "3.9.5"
  }
 },
 "nbformat": 4,
 "nbformat_minor": 5
}
