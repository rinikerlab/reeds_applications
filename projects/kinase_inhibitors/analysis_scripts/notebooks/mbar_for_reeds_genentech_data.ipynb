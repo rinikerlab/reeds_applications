{
 "cells": [
  {
   "cell_type": "markdown",
   "id": "0520f785",
   "metadata": {},
   "source": [
    "## Note: This is the code I used to calculate the free energies with MBAR. \n",
    "I then implemented the code in the re-eds pipeline but the .npy files\n",
    "which contain the final free energies for each system were calculated with this script"
   ]
  },
  {
   "cell_type": "code",
   "execution_count": 339,
   "id": "e224b39c",
   "metadata": {},
   "outputs": [],
   "source": [
    "import reeds\n",
    "import pygromos\n",
    "\n",
    "import numpy as np\n",
    "import glob as glob\n",
    "from scipy import stats\n",
    "from scipy import constants as const\n",
    "\n",
    "from scipy.special import logsumexp\n",
    "\n",
    "\n",
    "from mpmath import * # This is for floating point arithmetic ! \n",
    "mp.dps = 15\n",
    "\n",
    "import copy\n",
    "\n",
    "import pymbar\n",
    "from pymbar import MBAR\n",
    "from pymbar.timeseries import subsample_correlated_data"
   ]
  },
  {
   "cell_type": "code",
   "execution_count": 340,
   "id": "6ef3a2bb",
   "metadata": {},
   "outputs": [],
   "source": [
    "from reeds.function_libs.file_management import file_management as fM\n",
    "#from reeds.function_libs.analysis import analysis as ana\n",
    "\n",
    "from pygromos.files.imd import Imd"
   ]
  },
  {
   "cell_type": "markdown",
   "id": "7f44ca16",
   "metadata": {},
   "source": [
    "# 0) Define the data to work on"
   ]
  },
  {
   "cell_type": "code",
   "execution_count": 355,
   "id": "ab77f5f8",
   "metadata": {},
   "outputs": [
    {
     "name": "stdout",
     "output_type": "stream",
     "text": [
      "/fileserver/pine/pine2/cchampion/REEDS/NIK/complex_gaff\n",
      "NIK_complex_gaff\n"
     ]
    }
   ],
   "source": [
    "PROJECT = 'NIK'\n",
    "FF = 'complex_gaff'\n",
    "\n",
    "project_path = f'/fileserver/pine/pine2/cchampion/REEDS/{PROJECT}/{FF}'\n",
    "\n",
    "print (project_path)\n",
    "\n",
    "if 'complex' in project_path:\n",
    "    NAME_END = f'{PROJECT}_{FF}'\n",
    "else:\n",
    "    NAME_END = f'{PROJECT}_water_{FF}'\n",
    "    \n",
    "print (NAME_END)"
   ]
  },
  {
   "cell_type": "code",
   "execution_count": 358,
   "id": "d3438342",
   "metadata": {},
   "outputs": [
    {
     "name": "stdout",
     "output_type": "stream",
     "text": [
      "['f_prod_seed1', 'f_prod_seed2', 'f_prod_seed3', 'f_prod_seed4', 'f_prod_seed5']\n",
      "6\n"
     ]
    }
   ],
   "source": [
    "prod_paths = [f'f_prod_seed{i}' for i in range(1, 6)]\n",
    "print(prod_paths)\n",
    "\n",
    "imd = Imd(f'{project_path}/{prod_paths[0]}/input/repex_prod.imd')\n",
    "\n",
    "s_values = np.array(imd.REPLICA_EDS.RES, dtype=float)\n",
    "eoffs = np.array(imd.REPLICA_EDS.EIR, dtype=float).T\n",
    "\n",
    "num_states = len(eoffs[0])\n",
    "print (num_states)"
   ]
  },
  {
   "cell_type": "code",
   "execution_count": 359,
   "id": "1943faf5",
   "metadata": {},
   "outputs": [],
   "source": [
    "def get_prefix(path_data):\n",
    "    filename = glob.glob(f'{path_data}/*energies*.dat')[0]\n",
    "    return '_'.join(filename.split('/')[-1].split('_')[0:-1])\n",
    "    "
   ]
  },
  {
   "cell_type": "code",
   "execution_count": 361,
   "id": "ebba6fc2",
   "metadata": {},
   "outputs": [],
   "source": [
    "ene_trajs_all_seeds = []\n",
    "\n",
    "for prod in prod_paths:\n",
    "    prefix = get_prefix(f'{project_path}/{prod}/analysis/data/')\n",
    "    ene_trajs = fM.parse_csv_energy_trajectories(in_folder=f'{project_path}/{prod}/analysis/data/', ene_trajs_prefix=prefix)\n",
    "        \n",
    "    # For NIK remove equilibration and extra little end \n",
    "    ene_trajs = [traj[500*5:2500*5:5] for traj in ene_trajs]\n",
    "    \n",
    "    ene_trajs_all_seeds.append(ene_trajs)"
   ]
  },
  {
   "cell_type": "markdown",
   "id": "2d349668",
   "metadata": {},
   "source": [
    "# 1) Do the M-BAR analysis"
   ]
  },
  {
   "cell_type": "code",
   "execution_count": 362,
   "id": "5c17b5eb",
   "metadata": {},
   "outputs": [],
   "source": [
    "def reformat_trajs4mbar_with_decorrelation(ene_trajs, s_values, eoffs, num_states, l = 1, temp = 298):\n",
    "    \"\"\"\n",
    "    Reformats a gromos energy trajectory to fit the expected input of pymbar (u_kln)\n",
    "    \n",
    "    This function also re-evaluates the reference potential at other values of s for the calculation.\n",
    "    \n",
    "    # We would need to add to that the initial trajectories to have the A -> R, B -> R, etc.\n",
    "    \n",
    "    # TO-DO: Rework the code so it automatically subsamples \n",
    "             each trajectory to remove correlated datapoints(do that based on sampled V_R)\n",
    "    \n",
    "    Input\n",
    "    ------\n",
    "        \n",
    "        l = number of replicas to use in addition!\n",
    "    e_prod_seed1/analysis/data\n",
    "    \"\"\"\n",
    "    \n",
    "    temp = 298\n",
    "    kt = (temp * const.k * const.Avogadro) / 1000\n",
    "    beta =  1 / kt\n",
    "    \n",
    "    end_states = [f'e{i+1}' for i in range(num_states)]\n",
    "    \n",
    "    # a little bit ugly we do work twice here\n",
    "    n = [len(subsample_correlated_data(traj['eR'])) for traj in ene_trajs[:l]]\n",
    "    idx_ns = np.append([0], np.cumsum(n))\n",
    "    \n",
    "    k_tot = num_states + l # we will always have the additional (l) V_R states\n",
    "    \n",
    "    u_kn = np.zeros([k_tot, np.sum(n)]) # energies evaluated at all states k for all n samples\n",
    "    N_k = np.zeros(k_tot) # number of samples from states k\n",
    "    \n",
    "    for i, traj in enumerate(ene_trajs):\n",
    "        if i == l:\n",
    "            break\n",
    "        \n",
    "        # print (f'working on replica # {i+1}')\n",
    "        beg = idx_ns[i]\n",
    "        end = idx_ns[i+1]\n",
    "        #rint (f'{beg}-{end}')\n",
    "        \n",
    "        # Reformat the data\n",
    "        vr = np.array(traj['eR'])\n",
    "        idx_subsample = subsample_correlated_data(vr)\n",
    "        \n",
    "        vr = vr[idx_subsample]\n",
    "        vis = np.array(traj[end_states])[idx_subsample]\n",
    "\n",
    "        # Add the potential energies of the end states\n",
    "        for k, vk in enumerate(vis.T): \n",
    "            u_kn[k, beg:end] = vk\n",
    "        \n",
    "        # Add the potential energies of the reference states at different s-values\n",
    "        for k in range(num_states, num_states+l):\n",
    "            idx_params = (k-num_states)\n",
    "            if idx_params == i:\n",
    "                u_kn[k, beg:end] = vr\n",
    "            else: #recalc ref potential at other s values = s_i\n",
    "                s = s_values[idx_params]\n",
    "                _eoffs = eoffs[idx_params]                \n",
    "                expterm =  - (beta*s) * np.subtract(vis,  _eoffs).T\n",
    "                u_kn[k, beg:end] = -1/(beta*s) * logsumexp(expterm, axis=0)\n",
    "            \n",
    "        N_k[i+num_states] = len(vr)\n",
    "    \n",
    "    # Convert to reduced potential energies\n",
    "    u_kn *= beta\n",
    "    \n",
    "    return u_kn, N_k "
   ]
  },
  {
   "cell_type": "code",
   "execution_count": 363,
   "id": "77d62a04",
   "metadata": {},
   "outputs": [],
   "source": [
    "def reformat_trajs4mbar_without_decorrelation(ene_trajs, s_values, eoffs, num_states, l = 1, temp = 298):\n",
    "    \"\"\"\n",
    "    Reformats a gromos energy trajectory to fit the expected input of pymbar (u_kln)\n",
    "    \n",
    "    This function also re-evaluates the reference potential at other values of s for the calculation.\n",
    "    \n",
    "    # We would need to add to that the initial trajectories to have the A -> R, B -> R, etc.\n",
    "    \n",
    "    # TO-DO: Rework the code so it automatically subsamples \n",
    "             each trajectory to remove correlated datapoints(do that based on sampled V_R)\n",
    "    \n",
    "    Input\n",
    "    ------\n",
    "        \n",
    "        l = number of replicas to use in addition!\n",
    "    \n",
    "    \"\"\"\n",
    "    \n",
    "    temp = 298\n",
    "    kt = (temp * const.k * const.Avogadro) / 1000\n",
    "    beta =  1 / kt\n",
    "    \n",
    "    end_states = [f'e{i+1}' for i in range(num_states)]\n",
    "    \n",
    "    # a little bit ugly we do work twice here\n",
    "    n = [len(ene_trajs[0]['eR'])] * l\n",
    "    \n",
    "    idx_ns = np.append([0], np.cumsum(n))\n",
    "    \n",
    "    print (n)\n",
    "    print (idx_ns)\n",
    "    \n",
    "    k_tot = num_states + l # we will always have the additional (l) V_R states\n",
    "    \n",
    "    u_kn = np.zeros([k_tot, np.sum(n)]) # energies evaluated at all states k for all n samples\n",
    "    N_k = np.zeros(k_tot) # number of samples from states k\n",
    "    \n",
    "    for i, traj in enumerate(ene_trajs):\n",
    "        if i == l:\n",
    "            break\n",
    "        \n",
    "        # print (f'working on replica # {i+1}')\n",
    "        beg = idx_ns[i]\n",
    "        end = idx_ns[i+1]\n",
    "        #rint (f'{beg}-{end}')\n",
    "        \n",
    "        # Reformat the data\n",
    "        vr = np.array(traj['eR'])\n",
    "        idx_subsample = subsample_correlated_data(vr)\n",
    "        \n",
    "        vr = vr[idx_subsample]\n",
    "        vis = np.array(traj[end_states])[idx_subsample]\n",
    "\n",
    "        # Add the potential energies of the end states\n",
    "        for k, vk in enumerate(vis.T): \n",
    "            u_kn[k, beg:end] = vk\n",
    "        \n",
    "        # Add the potential energies of the reference states at different s-values\n",
    "        for k in range(num_states, num_states+l):\n",
    "            idx_params = (k-num_states)\n",
    "            if idx_params == i:\n",
    "                u_kn[k, beg:end] = vr\n",
    "            else: #recalc ref potential at other s values = s_i\n",
    "                s = s_values[idx_params]\n",
    "                _eoffs = eoffs[idx_params]                \n",
    "                expterm =  - (beta*s) * np.subtract(vis,  _eoffs).T\n",
    "                u_kn[k, beg:end] = -1/(beta*s) * logsumexp(expterm, axis=0)\n",
    "            \n",
    "        N_k[i+num_states] = len(vr)\n",
    "    \n",
    "    # Convert to reduced potential energies\n",
    "    u_kn *= beta\n",
    "    \n",
    "    return u_kn, N_k "
   ]
  },
  {
   "cell_type": "markdown",
   "id": "7f698c85",
   "metadata": {},
   "source": [
    "# Analysis of the trajectory using all of the data "
   ]
  },
  {
   "cell_type": "code",
   "execution_count": 364,
   "id": "6dff522c",
   "metadata": {},
   "outputs": [
    {
     "name": "stderr",
     "output_type": "stream",
     "text": [
      "WARNING:pymbar.mbar_solvers:Failed to reach a solution to within tolerance with hybr: trying next method\n",
      "WARNING:pymbar.mbar_solvers:Failed to reach a solution to within tolerance with hybr: trying next method\n",
      "WARNING:pymbar.mbar_solvers:Failed to reach a solution to within tolerance with hybr: trying next method\n",
      "WARNING:pymbar.mbar_solvers:Failed to reach a solution to within tolerance with hybr: trying next method\n",
      "WARNING:pymbar.mbar_solvers:Failed to reach a solution to within tolerance with hybr: trying next method\n"
     ]
    }
   ],
   "source": [
    "temp = 298\n",
    "kt = (temp * const.k * const.Avogadro) / 1000\n",
    "beta =  1 / kt\n",
    "\n",
    "percents = np.arange(100, 101, 5)\n",
    "\n",
    "num_points = len(percents)\n",
    "num_seeds = len(ene_trajs_all_seeds)\n",
    "\n",
    "mbar_convergence = np.zeros((num_points, num_seeds, num_states)) # num_slices, num_seeds, sum_deltaGs\n",
    "zwanzig_convergence = np.zeros((num_points, num_seeds, num_states)) # num_slices, num_seeds, sum_deltaGs\n",
    "\n",
    "size_ene = len(ene_trajs[0])\n",
    "\n",
    "for j, ene_trajs in enumerate(ene_trajs_all_seeds):\n",
    "    for i, percent in enumerate(percents):\n",
    "        imax = int(size_ene * percent/100)\n",
    "        tmp =  [ t[0:imax] for t in copy.deepcopy(ene_trajs)]\n",
    "                \n",
    "        u_kn, N_k = reformat_trajs4mbar_with_decorrelation(tmp, s_values, eoffs, num_states = num_states, l=32)\n",
    "        # u_kn, N_k = reformat_trajs4mbar_without_decorrelation(tmp, s_values, eoffs, num_states = num_states, l=32)\n",
    "        mbar = MBAR(u_kn, N_k)\n",
    "        \n",
    "        try:\n",
    "            results = mbar.compute_free_energy_differences()\n",
    "            mbar_convergence[i,j] = results['Delta_f'][num_states][0:num_states] * kt\n",
    "        except:\n",
    "            print ('error')\n",
    "        \n",
    "        # Return free energies w.r.t. R (s=1) (1->R, 2->5, ..., N->R)\n",
    "         \n",
    "        #u_kn, N_k = reformat_trajs4mbar_with_decorrelation(tmp, s_values, eoffs, num_states = num_states, l=1)\n",
    "        #mbar = MBAR(u_kn, N_k)\n",
    "        #results = mbar.compute_free_energy_differences()\n",
    "        \n",
    "        #zwanzig_convergence[i,j] = results['Delta_f'][num_states][0:num_states]\n",
    "        \n",
    "        #zwanzig_convergence[i,j] = results['Delta_f'][num_states][0:num_states] * kt \n",
    "        \n",
    "        pass"
   ]
  },
  {
   "cell_type": "markdown",
   "id": "3f5fd676",
   "metadata": {},
   "source": [
    "# Save the data to a numpy array "
   ]
  },
  {
   "cell_type": "code",
   "execution_count": 349,
   "id": "76bd78d8",
   "metadata": {},
   "outputs": [],
   "source": [
    "#### note index 0 here is because we used data from a 3D array (so we recover data using 100% of sim) \n",
    "# it also assumes percent is set accordingly in cell above: percents = np.arange(100, 101, 5)"
   ]
  },
  {
   "cell_type": "code",
   "execution_count": 365,
   "id": "012c15a5",
   "metadata": {},
   "outputs": [],
   "source": [
    "final_results = np.array([np.average(mbar_convergence[0], axis=0), np.std(mbar_convergence[0], axis=0)])\n",
    "final_results2 = np.array([np.average(zwanzig_convergence[0], axis=0), np.std(zwanzig_convergence[0], axis=0)])\n",
    "\n",
    "# overwrite results for PIM complex_gaff state 4:\n",
    "\n",
    "#final_results[0][3] = (198.79344633 + 197.62367259 + 202.83888035 + 203.99023936) / 4\n",
    "#final_results[1][3] = np.std([198.79344633, 197.62367259, 202.83888035, 203.99023936])"
   ]
  },
  {
   "cell_type": "code",
   "execution_count": 366,
   "id": "7f4651f5",
   "metadata": {},
   "outputs": [
    {
     "data": {
      "text/plain": [
       "array([   2.28287239,   33.17065415, -240.84953026,  131.52512623,\n",
       "         44.51909273, -212.64904664])"
      ]
     },
     "execution_count": 366,
     "metadata": {},
     "output_type": "execute_result"
    }
   ],
   "source": [
    "final_results[0]"
   ]
  },
  {
   "cell_type": "code",
   "execution_count": 352,
   "id": "51d8f4fd",
   "metadata": {},
   "outputs": [
    {
     "data": {
      "text/plain": [
       "array([0., 0., 0., 0., 0., 0.])"
      ]
     },
     "execution_count": 352,
     "metadata": {},
     "output_type": "execute_result"
    }
   ],
   "source": [
    "final_results2[0]"
   ]
  },
  {
   "cell_type": "code",
   "execution_count": 368,
   "id": "5d48d6d6",
   "metadata": {},
   "outputs": [],
   "source": [
    "path_arr = f'/fileserver/pine/pine2/cchampion/REEDS/{PROJECT}/results/{NAME_END}.npy'\n",
    "\n",
    "np.save(path_arr, final_results)"
   ]
  },
  {
   "cell_type": "code",
   "execution_count": 367,
   "id": "e30cc33b",
   "metadata": {},
   "outputs": [
    {
     "data": {
      "text/plain": [
       "'/fileserver/pine/pine2/cchampion/REEDS/NIK/complex_gaff'"
      ]
     },
     "execution_count": 367,
     "metadata": {},
     "output_type": "execute_result"
    }
   ],
   "source": [
    "project_path"
   ]
  }
 ],
 "metadata": {
  "kernelspec": {
   "display_name": "Python [conda env:.conda-re-eds]",
   "language": "python",
   "name": "conda-env-.conda-re-eds-py"
  },
  "language_info": {
   "codemirror_mode": {
    "name": "ipython",
    "version": 3
   },
   "file_extension": ".py",
   "mimetype": "text/x-python",
   "name": "python",
   "nbconvert_exporter": "python",
   "pygments_lexer": "ipython3",
   "version": "3.9.15"
  }
 },
 "nbformat": 4,
 "nbformat_minor": 5
}
