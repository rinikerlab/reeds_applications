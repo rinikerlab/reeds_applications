{
 "cells": [
  {
   "cell_type": "code",
   "execution_count": 13,
   "id": "e31237f0",
   "metadata": {},
   "outputs": [],
   "source": [
    "import reeds\n",
    "import pygromos\n",
    "\n",
    "import glob\n",
    "import os, sys, copy\n",
    "import numpy as np\n",
    "import matplotlib.pyplot as plt\n",
    "\n",
    "from pygromos.files.imd import Imd\n",
    "\n",
    "from free_energy_funcs import direct_comparison, offset_comparison, additional_analysis, bootstrap_analysis_fromseed"
   ]
  },
  {
   "cell_type": "code",
   "execution_count": 14,
   "id": "c6860bdb",
   "metadata": {},
   "outputs": [],
   "source": [
    "#1 Load the appropriate data\n",
    "\n",
    "ic50s = np.array([0.063, 0.056, 0.012, 0.0097, 0.0066, 0.0065, 0.0045]) / 1000000 # in M"
   ]
  },
  {
   "cell_type": "code",
   "execution_count": 15,
   "id": "2a0941e7",
   "metadata": {},
   "outputs": [],
   "source": [
    "# project_dir = '/fileserver/pine/pine2/cchampion/REEDS/1_genentech_project/PAK/results/free_energies_mbar/'\n",
    "data_dir = os.getcwd()+'/data_for_plots/pak'"
   ]
  },
  {
   "cell_type": "code",
   "execution_count": 17,
   "id": "98c9e613",
   "metadata": {},
   "outputs": [],
   "source": [
    "prefix= os.getcwd()+'/data_for_plots/pak/free_energies_mbar'\n",
    "\n",
    "dg_wat_gaff = np.load(f'{prefix}/PAK_gaff.npy', )\n",
    "dg_prot_gaff = np.load(f'{prefix}/PAK_complex_gaff.npy',)\n",
    "\n",
    "dg_wat_openff = np.load(f'{prefix}/PAK_openff.npy', )\n",
    "dg_prot_openff = np.load(f'{prefix}/PAK_complex_openff.npy', )\n"
   ]
  },
  {
   "cell_type": "code",
   "execution_count": 18,
   "id": "d1662410",
   "metadata": {},
   "outputs": [],
   "source": [
    "# dg_prot_gaff_with_disres[1, 6] = 0"
   ]
  },
  {
   "cell_type": "code",
   "execution_count": 19,
   "id": "6a507f3d",
   "metadata": {},
   "outputs": [],
   "source": [
    "# 2 : Convert this to binding energies\n",
    "\n",
    "dgs_exp, dgs_sim_gaff = offset_comparison(ic50s, dg_prot_gaff, dg_wat_gaff)\n",
    "_, dgs_sim_openff = offset_comparison(ic50s, dg_prot_openff, dg_wat_openff)\n"
   ]
  },
  {
   "cell_type": "code",
   "execution_count": 20,
   "id": "d7e5515c",
   "metadata": {},
   "outputs": [
    {
     "data": {
      "text/plain": [
       "2.1047165884701835"
      ]
     },
     "execution_count": 20,
     "metadata": {},
     "output_type": "execute_result"
    }
   ],
   "source": [
    "np.mean(np.abs(np.mean(dgs_exp) - dgs_exp))"
   ]
  },
  {
   "cell_type": "code",
   "execution_count": 21,
   "id": "5727d35c",
   "metadata": {},
   "outputs": [
    {
     "data": {
      "text/plain": [
       "3.7246155569465804"
      ]
     },
     "execution_count": 21,
     "metadata": {},
     "output_type": "execute_result"
    }
   ],
   "source": [
    "from free_energy_funcs import get_rel_ddGs\n",
    "\n",
    "np.sqrt(np.mean(np.power(get_rel_ddGs(dgs_exp), 2) - 0)) # relative error compared to predicting only zeros"
   ]
  },
  {
   "cell_type": "code",
   "execution_count": 22,
   "id": "1dd559e2",
   "metadata": {},
   "outputs": [
    {
     "name": "stdout",
     "output_type": "stream",
     "text": [
      "MUE = 1.9 [1.79 -- 2.01]\n",
      "$\\tau$ = 0.4 [0.33 -- 0.45]\n",
      "$\\rho$ = 0.5 [0.45 -- 0.59]\n",
      "RMSE = 3.3 [3.14 -- 3.50]\n"
     ]
    }
   ],
   "source": [
    "bootstrap_analysis_fromseed(dgs_sim_gaff[0], dgs_sim_gaff[1], dgs_exp, nboot=5000)"
   ]
  },
  {
   "cell_type": "code",
   "execution_count": 23,
   "id": "23e04a0f",
   "metadata": {},
   "outputs": [
    {
     "name": "stdout",
     "output_type": "stream",
     "text": [
      "MUE = 2.8 [2.66 -- 2.88]\n",
      "$\\tau$ = 0.6 [0.57 -- 0.65]\n",
      "$\\rho$ = 0.7 [0.71 -- 0.76]\n",
      "RMSE = 5.8 [5.63 -- 6.00]\n"
     ]
    }
   ],
   "source": [
    "bootstrap_analysis_fromseed(dgs_sim_openff[0], dgs_sim_openff[1], dgs_exp, nboot=5000)"
   ]
  },
  {
   "cell_type": "code",
   "execution_count": 24,
   "id": "b80bccd6",
   "metadata": {},
   "outputs": [
    {
     "data": {
      "image/png": "[encoded data removed]",
      "text/plain": [
       "<Figure size 1485x900 with 5 Axes>"
      ]
     },
     "metadata": {},
     "output_type": "display_data"
    }
   ],
   "source": [
    "def identify_axes(ax_dict, fontsize=48):\n",
    "    \"\"\"\n",
    "    Helper to identify the Axes in the examples below.\n",
    "\n",
    "    Draws the label in a large font in the center of the Axes.\n",
    "\n",
    "    Parameters\n",
    "    ----------\n",
    "    ax_dict : dict[str, Axes]\n",
    "        Mapping between the title / label and the Axes.\n",
    "    fontsize : int, optional\n",
    "        How big the label should be.\n",
    "    \"\"\"\n",
    "    kw = dict(ha=\"center\", va=\"center\", fontsize=fontsize, color=\"darkgrey\")\n",
    "    for k, ax in ax_dict.items():\n",
    "        ax.text(0.95, 0.5, k, transform=ax.transAxes, **kw)\n",
    "\n",
    "fig = plt.figure(constrained_layout=True, figsize = [9*1.65, 9])\n",
    "axd = fig.subplot_mosaic( \"\"\"\n",
    "    AABBBB\n",
    "    CCDDEE\n",
    "    \"\"\",gridspec_kw = {\"hspace\":0.275} \n",
    "                        \n",
    "                        \n",
    "        )\n",
    "\n",
    "\n",
    "fontsize = 14 \n",
    "kw = dict(fontsize=24, color=\"black\", fontweight=\"bold\")\n",
    "#for k, ax in axd.items():\n",
    "#     print (ax)\n",
    "#    if k == 'B':\n",
    "#        print ('here?')\n",
    "        #ax.text(0, 0.95, k, transform=ax.transAxes,\n",
    "        #    fontsize=24, fontweight='bold', va='top')\n",
    "#    else:\n",
    "        #ax.text(0.05, 0.95, k, transform=ax.transAxes,\n",
    "        #    fontsize=24, fontweight='bold', va='top')"
   ]
  },
  {
   "cell_type": "code",
   "execution_count": 25,
   "id": "35922123",
   "metadata": {},
   "outputs": [],
   "source": [
    "active_qualitative_map_mligs = lambda num_ligs: plt.cm.viridis(np.linspace(0,1,num_ligs))\n",
    "color_blind_frienfly = active_qualitative_map_mligs(5)"
   ]
  },
  {
   "cell_type": "code",
   "execution_count": 26,
   "id": "c2114bf5",
   "metadata": {},
   "outputs": [
    {
     "name": "stdout",
     "output_type": "stream",
     "text": [
      "[   0.   -102.11  -25.65   80.69 -251.72   -0.82  125.71]\n"
     ]
    }
   ],
   "source": [
    "# Plot the timeseries:\n",
    "import pandas as pd\n",
    "from reeds.function_libs.file_management import file_management as fM\n",
    "\n",
    "traj_gaff = pd.concat([fM.parse_csv_energy_trajectory(data_dir + f'/complex_gaff/energies_seed_{seed}.dat') for seed in range(1, 6)])\n",
    "#thresholds = np.genfromtxt(data_dir +'/thres/complex_gaff_thresholds.csv')\n",
    "#idx_sampled = [np.where(traj_gaff['e'+str(i+1)] < thresholds[i]) for i in range(0, 7)]\n",
    "\n",
    "\n",
    "traj_off = pd.concat([fM.parse_csv_energy_trajectory(data_dir + f'/complex_openff/energies_seed_{seed}.dat') for seed in range(1, 6)])\n",
    "#thresholds_off = np.genfromtxt(data_dir +'/thres/complex_openff_thresholds.csv')\n",
    "#idx_sampled_off = [np.where(traj_off['e'+str(i+1)] < thresholds_off[i]) for i in range(0, 7)]\n",
    "\n",
    "# Doing it with the maxContrib criterion instead\n",
    "vis = ['e1', 'e2', 'e3', 'e4', 'e5', 'e6', 'e7']\n",
    "\n",
    "\n",
    "imd_gaff = Imd(f'{data_dir}/complex_gaff/input.imd')\n",
    "eoff_gaff = np.array(imd_gaff.REPLICA_EDS.EIR, dtype=float).T[0]\n",
    "\n",
    "print (eoff_gaff)\n",
    "\n",
    "traj_gaff2 = copy.deepcopy(traj_gaff)\n",
    "\n",
    "for state, eoff in zip(vis, eoff_gaff):\n",
    "    traj_gaff2[state] -= eoff\n",
    "\n",
    "mins_gaff = np.argmin(np.array(traj_gaff2[vis]), axis=1)\n",
    "idx_sampled_gaff = [np.where(mins_gaff == i) for i in range(0, 7)]\n",
    "\n",
    "####\n",
    "\n",
    "imd_openff = Imd(f'{data_dir}/complex_openff/input.imd')\n",
    "eoff_openff = np.array(imd_openff.REPLICA_EDS.EIR, dtype=float).T[0]\n",
    "traj_off2 = copy.deepcopy(traj_off)\n",
    "\n",
    "for state, eoff in zip(vis, eoff_openff):\n",
    "    traj_off2[state] -= eoff\n",
    "\n",
    "mins_off = np.argmin(np.array(traj_off2[vis]), axis=1)\n",
    "idx_sampled_off = [np.where(mins_off == i) for i in range(0, 7)]\n"
   ]
  },
  {
   "cell_type": "code",
   "execution_count": 27,
   "id": "143303f5",
   "metadata": {},
   "outputs": [],
   "source": [
    "# 1 Plot free energies\n",
    "\n",
    "sim = [dgs_sim_openff, dgs_sim_gaff]\n",
    "\n",
    "labels_sim = ['OpenFF', 'GAFF',]\n",
    "\n",
    "fontsize = 20\n",
    "\n",
    "def plot_errorbar(ax, x, y, y_err, color, label, zorder, alpha, marker = 's'):\n",
    "    markers, caps, bars = ax.errorbar(x, y, y_err, fmt=marker, markersize = 6,\n",
    "                                      color = color, mec = color,\n",
    "                                      ecolor = color, label = label,\n",
    "                                      capthick=1.5, capsize=4, linewidth = 3,\n",
    "                                      zorder=zorder, alpha = alpha\n",
    "                                     )\n",
    "    [bar.set_alpha(1) for bar in bars]\n",
    "    [cap.set_alpha(1) for cap in caps]\n",
    "\n",
    "active_qualitative_map_mligs = lambda num_ligs: plt.cm.viridis(np.linspace(0,1,num_ligs))\n",
    "color_blind_frienfly = active_qualitative_map_mligs(5)\n",
    "\n",
    "xmin = np.min(dgs_exp)\n",
    "xmax = np.max(dgs_exp)\n",
    "\n",
    "plot_errorbar(axd['A'], dgs_exp, dgs_sim_gaff[0], dgs_sim_gaff[1], color = '#bb1177',\n",
    "              label = labels_sim[1], zorder = 10, alpha = 1, marker = 's')\n",
    "\n",
    "plot_errorbar(axd['A'], dgs_exp, dgs_sim_openff[0], dgs_sim_openff[1], color = '#3388cc',\n",
    "              label = labels_sim[0], zorder = 11, alpha = 0.85, marker = 's')\n",
    "\n",
    "# Make the lines, etc. \n",
    "\n",
    "x = np.linspace(-100, 100, 50)\n",
    "\n",
    "axd['A'].plot(x, x, color = 'black')\n",
    "axd['A'].plot(x, x-4.185, color = 'lightgrey')\n",
    "axd['A'].plot(x, x+4.185, color = 'lightgrey')\n",
    "#\n",
    "axd['A'].fill_between(x, x-4.185, x+4.185, color='lightgrey')\n",
    "axd['A'].fill_between(x, x-2*4.185, x+2*4.185, color='lightgrey', alpha=0.5)\n",
    "\n",
    "axd['A'].set_xlabel(r'$\\Delta G_{bind}$ - Experimental [kJ/mol]', fontsize = fontsize)\n",
    "axd['A'].set_ylabel(r'$\\Delta G_{bind}$ - RE-EDS [kJ/mol]', fontsize = fontsize)\n",
    "\n",
    "axd['A'].set_xticks(np.arange(-55, -25, 5))\n",
    "axd['A'].set_yticks(np.arange(-55, -25, 5))\n",
    "axd['A'].tick_params(axis=\"y\",direction=\"in\", length = 6, width = 1.5, labelsize=fontsize)\n",
    "axd['A'].tick_params(axis=\"x\",direction=\"in\", length = 6, width = 1.5, labelsize=fontsize)\n",
    "\n",
    "for axis in ['top','bottom','left','right']:\n",
    "    axd['A'].spines[axis].set_linewidth(1)\n",
    "\n",
    "axd['A'].set_ylim([-55.5, -29.5]) \n",
    "axd['A'].set_xlim([-55.5, -29.5]) \n",
    "\n",
    "for axis in ['top','bottom','left','right']:\n",
    "    axd['A'].spines[axis].set_linewidth(2)"
   ]
  },
  {
   "cell_type": "code",
   "execution_count": 28,
   "id": "d9e0207d",
   "metadata": {},
   "outputs": [],
   "source": [
    "def extract_data(path_csv): \n",
    "    vec = np.genfromtxt(path_csv).T    \n",
    "    # time, dihedrals\n",
    "    return vec[0]/1000, mod2pi(vec[1:])\n",
    "\n",
    "def mod2pi(v):\n",
    "     return np.degrees(np.mod(np.radians(v), 2*np.pi))\n",
    "\n",
    "duplicates = []\n",
    "for i in range(1, 51):\n",
    "    #print (i*250 + i)\n",
    "    duplicates.append(i*250 + i -1)\n",
    "\n",
    "# To open a pre-exising csv\n",
    "time, dihedrals = extract_data(data_dir + '/trajs_s1/dihedrals_complex_gaff_all_seeds.csv')\n",
    "time_off, dihedrals_off = extract_data(data_dir + '/trajs_s1/dihedrals_complex_openff_all_seeds.csv')\n",
    "\n",
    "\n",
    "# remove duplicate values...\n",
    "dihedrals  = np.delete(dihedrals, duplicates, axis=1)\n",
    "dihedrals_off  = np.delete(dihedrals_off, duplicates, axis=1)\n",
    "\n",
    "time = np.arange(0, 25, step =0.002)\n",
    "time_off = np.arange(0, 25, step =0.002)"
   ]
  },
  {
   "cell_type": "code",
   "execution_count": 29,
   "id": "6f5019fb",
   "metadata": {},
   "outputs": [],
   "source": [
    "openff_distances = np.loadtxt(data_dir + '/trajs_s1/distance_l1_lys57_openff.csv')\n",
    "gaff_distances = np.loadtxt(data_dir + '/trajs_s1/distance_l1_lys57_gaff.csv')\n",
    "\n",
    "duplicates = []\n",
    "for i in range(1, 51):\n",
    "    #print (i*250 + i)\n",
    "    duplicates.append(i*250 + i -1)\n",
    "\n",
    "openff_distances  = np.delete(openff_distances.T, duplicates, axis=1)\n",
    "gaff_distances = np.delete(gaff_distances.T, duplicates, axis=1)"
   ]
  },
  {
   "cell_type": "code",
   "execution_count": 30,
   "id": "8df18749",
   "metadata": {},
   "outputs": [],
   "source": [
    "axd['C'].cla()\n",
    "axd['D'].cla()\n",
    "axd['E'].cla()"
   ]
  },
  {
   "cell_type": "code",
   "execution_count": 31,
   "id": "14f07a78",
   "metadata": {},
   "outputs": [],
   "source": [
    "state = 0\n",
    "\n",
    "other_color = 'silver'\n",
    "s = 0.15\n",
    "alpha = 0.5\n",
    "marker = 'D'\n",
    "\n",
    "c = color_blind_frienfly\n",
    "\n",
    "axd['C'].scatter(time, mod2pi(dihedrals[state]), s = s,  color = other_color, alpha = alpha)\n",
    "\n",
    "\n",
    "axd['C'].scatter(time[idx_sampled_gaff[state]], \n",
    "                 mod2pi(dihedrals[state][idx_sampled_gaff[state]]), \n",
    "                 s = 8, color = '#bb1177', edgecolors = '#bb1177', linewidth = 0.25, marker = marker, zorder = 5) \n",
    "\n",
    "\n",
    "axd['C'].set_ylim([0, 360])\n",
    "\n",
    "# \n",
    "\n",
    "# \n",
    "\n",
    "axd['D'].scatter(time, mod2pi(dihedrals_off[state]), s = s,  color =other_color, alpha = alpha) \n",
    "axd['D'].scatter(time[idx_sampled_off[state]], \n",
    "                 mod2pi(dihedrals_off[state][idx_sampled_off[state]]), \n",
    "                 s = 8, color ='#3388cc', edgecolors = '#3388cc', linewidth = 0.25, marker = marker, zorder = 5) \n",
    "\n",
    "# \n",
    "\n",
    "#axd['D'].scatter(time, mod2pi(dihedrals_rest[state]), s = s,  color = other_color, alpha = alpha) \n",
    "#axd['D'].scatter(time[idx_sampled_rest[state]], \n",
    "#                 mod2pi(dihedrals_rest[state][idx_sampled_rest[state]]), \n",
    "#                 s = 8, color ='#dd99bb', edgecolors = '#dd99bb', linewidth = 0.25, marker = marker, zorder = 5) \n",
    "\n",
    "\n",
    "axd['D'].set_ylim([0, 360])\n",
    "\n",
    "\n",
    "\n",
    "axd['C'].set_yticks([0, 60, 120, 180, 240, 300, 360])\n",
    "axd['D'].set_xlabel('time [ns]', fontsize = fontsize) \n",
    "axd['C'].set_xlabel('time [ns]', fontsize = fontsize) \n",
    "axd['C'].set_ylabel('Dihedral angle [deg.]', fontsize = fontsize)\n",
    "\n",
    "\n",
    "for i in ['C', 'D',]:\n",
    "    axd[i].set_ylim([0, 360])\n",
    "    axd[i].set_xlim([0, 25])\n",
    "    axd['C'].set_xticks([0, 5, 10, 15, 20, 25])\n",
    "    \n",
    "    axd[i].set_zorder(99)\n",
    "    \n",
    "    if i != 'C':\n",
    "        axd[i].get_yaxis().set_visible(False)\n",
    "\n",
    "        \n",
    "axd['E'].hist(openff_distances[1][idx_sampled_off[state]], density=True, \n",
    "              bins = 50, histtype='step', edgecolor ='#3388cc', range=[0.15, 0.9], lw=2)\n",
    "\n",
    "\n",
    "axd['E'].hist(gaff_distances[1][idx_sampled_gaff[state]], density=True, bins = 50, histtype='step', edgecolor ='#bb1177', range=[0.15, 0.9], lw=2)\n",
    "\n",
    "\n",
    "axd['E'].axvspan(0.25, 0.35, alpha=0.5, color='lightgrey')\n",
    "\n",
    "axd['E'].set_xlabel('Distance Lys299 - carbonyl [nm]', fontsize = fontsize) \n",
    "\n",
    "axd['E'].yaxis.tick_right()\n",
    "axd['E'].set_ylabel('Density', fontsize = fontsize, labelpad=0,)\n",
    "axd['E'].set_xticks([0.25, 0.5, 0.75])\n",
    "# axd['E'].set_yticks([100, 200, 300, 400, 500, 600])   \n",
    "\n",
    "\n",
    "\n",
    "for i in ['C', 'D', 'E']:\n",
    "    axd[i].tick_params(axis=\"y\",direction=\"in\", length = 6, width = 1, labelsize=fontsize, )\n",
    "    axd[i].tick_params(axis=\"x\",direction=\"in\", length = 6, width = 1, labelsize=fontsize, )\n",
    "\n",
    "for i in ['C', 'D', 'E']:\n",
    "    for axis in ['top','bottom','left','right']:\n",
    "        axd[i].spines[axis].set_linewidth(2)\n",
    "    axd[i].xaxis.set_tick_params(width = 2)\n",
    "    axd[i].yaxis.set_tick_params(width = 2)\n",
    "    \n",
    "\n",
    "# adding 3 points outside bounds for legend:\n",
    "\n",
    "s = 64\n",
    "\n",
    "axd['D'].scatter(-1000, -1000, color = '#bb1177', label = 'GAFF', marker = 's', s= s)\n",
    "# axd['D'].scatter(-1000, -1000, color = '#dd99bb', label = 'GAFF (restrained)', marker = 's', s= s)\n",
    "axd['D'].scatter(-1000, -1000, color = '#3388cc', label = 'OpenFF', marker = 's', s =s)\n",
    "\n",
    "leg = axd['D'].legend(loc = 'upper center', fontsize=24, fancybox=True, \n",
    "                      ncol = 2, bbox_to_anchor=(0.5, 1.25))\n",
    "\n",
    "leg.get_frame().set_edgecolor('black')\n",
    "leg.get_frame().set_linewidth(1.5)\n",
    "leg.get_frame().set_zorder(100)\n",
    "    \n",
    "\n",
    "    \n",
    "    "
   ]
  },
  {
   "cell_type": "code",
   "execution_count": 32,
   "id": "848d9dd0",
   "metadata": {},
   "outputs": [],
   "source": [
    "for i in ['A']:\n",
    "    axd[i].set_aspect('equal', 'box')"
   ]
  },
  {
   "cell_type": "code",
   "execution_count": 33,
   "id": "2f0d9c3a",
   "metadata": {},
   "outputs": [],
   "source": [
    "#im = plt.imread(('//fileserver/pine/pine2/cchampion/REEDS/1_genentech_project/paper_programs/notebooks/data_for_plots/pak/white.png'))\n",
    "\n",
    "#axd['B'].imshow(im)\n",
    "\n",
    "#axd['B'].get_yaxis().set_visible(False)\n",
    "#axd['B'].get_xaxis().set_visible(False)\n",
    "\n",
    "#for axis in ['top','bottom','left','right']:\n",
    "#    axd['B'].spines[axis].set_visible(False)"
   ]
  },
  {
   "cell_type": "code",
   "execution_count": null,
   "id": "862f8a0a",
   "metadata": {},
   "outputs": [],
   "source": [
    "fig"
   ]
  },
  {
   "cell_type": "code",
   "execution_count": null,
   "id": "87c5eacf",
   "metadata": {},
   "outputs": [],
   "source": [
    "# fig.savefig('/home/cchampion/Desktop/PAK_new.png', facecolor='white', dpi=300)"
   ]
  },
  {
   "cell_type": "code",
   "execution_count": null,
   "id": "34f0c695",
   "metadata": {},
   "outputs": [],
   "source": [
    "fig"
   ]
  },
  {
   "cell_type": "markdown",
   "id": "bfbcc22a",
   "metadata": {},
   "source": [
    "# Other way to look at it "
   ]
  },
  {
   "cell_type": "code",
   "execution_count": null,
   "id": "9c6c48bf",
   "metadata": {},
   "outputs": [],
   "source": [
    "\"\"\"\n",
    "fig, ax = plt.subplots(nrows=1, ncols=1, figsize =[4, 6])\n",
    "\n",
    "state = 0\n",
    "\n",
    "ax.hist( mod2pi(dihedrals_off[state][idx_sampled_off[state]]), bins=36, alpha = 1, color = 'white', edgecolor ='#3388cc', histtype = 'step')\n",
    "\n",
    "ax2 = ax.twinx()\n",
    "\n",
    "ax2.hist( mod2pi(dihedrals[state][idx_sampled_gaff[state]]), bins=36, color = 'white', edgecolor ='#bb1177',  histtype = 'step')\n",
    "\n",
    "ax.set_xlabel('dihedral angle', fontsize = 18)\n",
    "\n",
    "ax.set_ylabel('count', fontsize = 18)\n",
    "ax2.set_ylabel('count', fontsize = 18)\n",
    "\"\"\""
   ]
  },
  {
   "cell_type": "markdown",
   "id": "3367f358",
   "metadata": {},
   "source": [
    "# Looking at distances rather than torsions"
   ]
  },
  {
   "cell_type": "code",
   "execution_count": null,
   "id": "ebdc4f7d",
   "metadata": {},
   "outputs": [],
   "source": [
    "openff_distances = np.loadtxt(data_dir + '/trajs_s1/distance_l1_lys57_openff.csv')\n",
    "gaff_distances = np.loadtxt(data_dir + '/trajs_s1/distance_l1_lys57_gaff.csv')\n",
    "\n",
    "duplicates = []\n",
    "for i in range(1, 51):\n",
    "    #print (i*250 + i)\n",
    "    duplicates.append(i*250 + i -1)\n",
    "\n",
    "\n",
    "openff_distances  = np.delete(openff_distances.T, duplicates, axis=1)\n",
    "gaff_distances = np.delete(gaff_distances.T, duplicates, axis=1)"
   ]
  },
  {
   "cell_type": "code",
   "execution_count": null,
   "id": "0a15bd5e",
   "metadata": {},
   "outputs": [],
   "source": [
    "fig, ax = plt.subplots(nrows=1, ncols=1, figsize =[6, 4])\n",
    "\n",
    "ax.hist(openff_distances[1][idx_sampled_off[state]], density=True,\n",
    "        bins = 100, histtype='step', edgecolor ='#3388cc', range=[0.15, 0.9])\n",
    "# ax2 = ax.twinx()\n",
    "ax.hist(gaff_distances[1][idx_sampled_gaff[state]], density=True,\n",
    "         bins = 100, histtype='step', edgecolor ='#bb1177', range=[0.15, 0.9])\n",
    "\n",
    "ax.axvspan(0.25, 0.35, alpha=0.5, color='lightgrey')\n",
    "\n"
   ]
  },
  {
   "cell_type": "code",
   "execution_count": null,
   "id": "0a3e4709",
   "metadata": {},
   "outputs": [],
   "source": [
    "fig, ax = plt.subplots(nrows=1, ncols=1, figsize =[6, 4])\n",
    "\n",
    "\n",
    "ax.hist(openff_distances[1][idx_sampled_off[state]], bins = 50, histtype='step', edgecolor ='#3388cc', range=[0.15, 0.9], lw=2)\n",
    "\n",
    "ax.axvspan(0.25, 0.35, alpha=0.5, color='lightgrey')\n",
    "\n",
    "# axd['E'].set_xlabel('Distance Lys299 - carbonyl [nm]', fontsize = fontsize) \n",
    "\n",
    "#axd['E'].yaxis.tick_right()\n",
    "\n",
    "#axd['E'].set_ylabel('Count', fontsize = fontsize, labelpad=1,)\n",
    "\n",
    "ax.tick_params(axis=\"y\",direction=\"in\", length = 6, width = 1, labelsize=fontsize, )\n",
    "ax.tick_params(axis=\"x\",direction=\"in\", length = 6, width = 1, labelsize=fontsize)\n",
    "ax.set_xticks([0.25, 0.5, 0.75])\n",
    "# axd['E'].set_yticks([100, 200, 300, 400, 500, 600])   \n",
    "\n",
    "\n",
    "\n",
    "\n",
    "ax2 = ax.twinx()\n",
    "ax2.hist(gaff_distances[1][idx_sampled_gaff[state]], bins = 50, histtype='step', \n",
    "           edgecolor ='#bb1177', range=[0.15, 0.9], lw= 2)\n",
    "\n",
    "ax2.tick_params(axis=\"y\",direction=\"in\", length = 6, width = 1, labelsize=fontsize, )\n"
   ]
  },
  {
   "cell_type": "markdown",
   "id": "01a8a830",
   "metadata": {},
   "source": [
    "# Note: I added the subfigure B back in powerpoint "
   ]
  },
  {
   "cell_type": "code",
   "execution_count": 242,
   "id": "9df7dcd6",
   "metadata": {},
   "outputs": [],
   "source": [
    "# fig.savefig('/cluster/home/cchampion/work/REEDS/pak/PAK_results_fig2.pdf', dpi=300, facecolor='white')\n",
    "# fig.savefig('//home/cchampion/tmp/PAK_results_fig_new2.png', dpi=300, facecolor='white', bbox_inches='tight')"
   ]
  }
 ],
 "metadata": {
  "kernelspec": {
   "display_name": "Python [conda env:.conda-re-eds]",
   "language": "python",
   "name": "conda-env-.conda-re-eds-py"
  },
  "language_info": {
   "codemirror_mode": {
    "name": "ipython",
    "version": 3
   },
   "file_extension": ".py",
   "mimetype": "text/x-python",
   "name": "python",
   "nbconvert_exporter": "python",
   "pygments_lexer": "ipython3",
   "version": "3.9.15"
  }
 },
 "nbformat": 4,
 "nbformat_minor": 5
}
