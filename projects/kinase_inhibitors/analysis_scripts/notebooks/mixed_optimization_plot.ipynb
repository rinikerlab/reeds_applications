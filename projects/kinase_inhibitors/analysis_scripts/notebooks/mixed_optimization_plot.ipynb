{
 "cells": [
  {
   "cell_type": "code",
   "execution_count": 1,
   "id": "bc4a9a72",
   "metadata": {},
   "outputs": [],
   "source": [
    "import glob\n",
    "import os, sys\n",
    "import pickle\n",
    "import re\n",
    "\n",
    "import numpy as np\n",
    "import pandas as pd\n",
    "from typing import Union, List\n",
    "\n",
    "# sys.path.append('/home/cbazin/programs/reeds/')\n",
    "import reeds\n",
    "from pygromos.files import repdat\n",
    "from pygromos.utils import bash\n",
    "\n",
    "import matplotlib.pyplot as plt\n",
    "\n",
    "from reeds.function_libs.visualization import plots_style as ps\n"
   ]
  },
  {
   "cell_type": "markdown",
   "id": "34167a6d",
   "metadata": {},
   "source": [
    "# Loading the data from a single directory"
   ]
  },
  {
   "cell_type": "code",
   "execution_count": 2,
   "id": "1f0ec182",
   "metadata": {},
   "outputs": [],
   "source": [
    "project_dir = \"//fileserver/pine/pine2/cchampion/REEDS/1_genentech_project/CHK1_benset/complex_gaff/d_mixed_opt/analysis\""
   ]
  },
  {
   "cell_type": "code",
   "execution_count": 61,
   "id": "a39be719",
   "metadata": {},
   "outputs": [],
   "source": [
    "project_dir = \"//fileserver/pine/pine2/cchampion/REEDS/1_genentech_project/CHK1/gaff/d_mixed_opt/analysis\""
   ]
  },
  {
   "cell_type": "code",
   "execution_count": 63,
   "id": "93c03928",
   "metadata": {},
   "outputs": [
    {
     "name": "stdout",
     "output_type": "stream",
     "text": [
      "1\t//fileserver/pine/pine2/cchampion/REEDS/1_genentech_project/CHK1/gaff/d_mixed_opt/analysis/mixedOpt1_ana_data.npy\n",
      "\n",
      "\n",
      "Loading precomputed data for iteration: \t2\t//fileserver/pine/pine2/cchampion/REEDS/1_genentech_project/CHK1/gaff/d_mixed_opt/analysis/mixedOpt2_ana_data.npy\n",
      "\n",
      "\n",
      "Loading precomputed data for iteration: \t3\t//fileserver/pine/pine2/cchampion/REEDS/1_genentech_project/CHK1/gaff/d_mixed_opt/analysis/mixedOpt3_ana_data.npy\n",
      "\n",
      "\n",
      "Loading precomputed data for iteration: \t4\t//fileserver/pine/pine2/cchampion/REEDS/1_genentech_project/CHK1/gaff/d_mixed_opt/analysis/mixedOpt4_ana_data.npy\n",
      "\n",
      "\n",
      "Loading precomputed data for iteration: \t5\t//fileserver/pine/pine2/cchampion/REEDS/1_genentech_project/CHK1/gaff/d_mixed_opt/analysis/mixedOpt5_ana_data.npy\n",
      "\n",
      "\n",
      "Loading precomputed data for iteration: \t6\t//fileserver/pine/pine2/cchampion/REEDS/1_genentech_project/CHK1/gaff/d_mixed_opt/analysis/mixedOpt6_ana_data.npy\n",
      "\n",
      "\n",
      "Loading precomputed data for iteration: \t"
     ]
    }
   ],
   "source": [
    "#out_dir = bash.make_folder(out_dir)\n",
    "\n",
    "# analyse the individual iterations\n",
    "sopt_data = {}\n",
    "num_iters = 6\n",
    "\n",
    "for iteration in range(1, num_iters+1):\n",
    "    print( iteration, end=\"\\t\")\n",
    "    out_iteration_file_path = f'{project_dir}/mixedOpt{iteration}_ana_data.npy'\n",
    "    \n",
    "    print (out_iteration_file_path)\n",
    "    \n",
    "    if (os.path.exists(out_iteration_file_path)):\n",
    "        print(\"\\n\\nLoading precomputed data for iteration: \", end=\"\\t\")\n",
    "        opt_it_stats = pickle.load(open(out_iteration_file_path, \"rb\"))\n",
    "        sopt_data.update({iteration: opt_it_stats})"
   ]
  },
  {
   "cell_type": "markdown",
   "id": "0144d45f",
   "metadata": {},
   "source": [
    "# Make the plots"
   ]
  },
  {
   "cell_type": "code",
   "execution_count": 73,
   "id": "b1e1bb2a",
   "metadata": {},
   "outputs": [],
   "source": [
    "ALL_RTS = None\n",
    "\n",
    "def visualization_s_optimization_summary(s_opt_data: dict,\n",
    "                                         out_path: str = None,\n",
    "                                         nRT_range: List[float] = None,\n",
    "                                         avRT_range: List[float] = None, \n",
    "                                         nsteps: float = 50) -> Union[str, plt.figure]:\n",
    "    \"\"\"visualization_s_optimization_summary\n",
    "    Parameters\n",
    "    ----------\n",
    "    s_opt_data : dict\n",
    "        dictionary containing data of all optimization iterations\n",
    "    out_path : str, optional\n",
    "        path to save figure\n",
    "    nRT_range : List[float]\n",
    "        range for the plot of number of roundtrips\n",
    "    avRT_range : List[float]\n",
    "        range for the plot of roundtrip times\n",
    "    nsteps: float \n",
    "        number of steps between two exchange trials\n",
    "    Returns\n",
    "    -------\n",
    "    Union[str, plt.figure]\n",
    "        the outpath is returned if one is given. Alternativley the plot direclty will be returned.\n",
    "    \"\"\"\n",
    "    niterations = len(s_opt_data)\n",
    "    \n",
    "    x = np.linspace(1, niterations, niterations)\n",
    "    \n",
    "    num_roundtrips = []\n",
    "    std_num_roundtrips = []\n",
    "    \n",
    "    avg_roundtrip_time = []\n",
    "    \n",
    "    x_svalues = []\n",
    "    y_svalues = []\n",
    "    \n",
    "    bar_heights = []\n",
    "    \n",
    "    # Format data properly for plotting:\n",
    "    \n",
    "    all_roundtrips = np.zeros([niterations, 32])\n",
    "    \n",
    "    for i, key in enumerate(sorted(s_opt_data)):\n",
    "        \n",
    "        opti = s_opt_data[key]\n",
    "        num_roundtrips.append(opti['avg_nRoundtripsPerNs'])\n",
    "        all_roundtrips[i] =  [ v['roundtrips_per_ns'] for k, v in (opti['stats_per_replica'].items())]\n",
    "\n",
    "            \n",
    "        std_num_roundtrips.append(np.std([ v['roundtrips_per_ns'] for k, v in (opti['stats_per_replica'].items())]))\n",
    "        \n",
    "        avg_roundtrip_time.append(np.nan_to_num(opti['avg_rountrip_durations']))\n",
    "        \n",
    "        x_svalues.extend(opti[\"s_values\"])\n",
    "        y_svalues.extend([(i+1) for x in range(len(opti[\"s_values\"]))])\n",
    "        \n",
    "        bar_heights.append([opti[\"state_maxContributing_sampling\"][state] for state in opti[\"state_maxContributing_sampling\"]])\n",
    "        \n",
    "    # Convert the number of steps into a time \n",
    "    avg_roundtrip_time = np.array(avg_roundtrip_time) * 0.002 * nsteps\n",
    "    \n",
    "    # Plot the formatted data: \n",
    "    \n",
    "    #fig, ((ax1, ax2), (ax3, ax4)) = plt.subplots(ncols=2, nrows=2, figsize=[12, 8])\n",
    "    \n",
    "    fig = plt.figure(constrained_layout=True, figsize = [10, 6])\n",
    "    mosaic = \"\"\"\n",
    "        AB\n",
    "        CB\n",
    "        \"\"\"\n",
    "    \n",
    "    gridspec_kw = { 'height_ratios':[0.85, 1], 'width_ratios':[1, 0.65]}\n",
    "    \n",
    "    ax_dict = fig.subplot_mosaic(mosaic, gridspec_kw = gridspec_kw)\n",
    "    \n",
    "    ax1 = ax_dict['A']\n",
    "    ax3 = ax_dict['B']\n",
    "    ax4 = ax_dict['C']\n",
    "    \n",
    "    alphas = [i/niterations* 0.8 + 0.2 for i in range(niterations)]\n",
    "    \n",
    "    #for i in range(niterations):   \n",
    "        #ax1.bar(x=x[i], height=num_roundtrips[i], yerr = std_num_roundtrips[i], color=\"dimgray\", alpha = alphas[i])\n",
    "    bplot = ax1.boxplot(x=all_roundtrips.T, showfliers=False, medianprops=dict(color=\"black\"), patch_artist=True)\n",
    "    alphas = [i/niterations* 0.8 + 0.2 for i in range(niterations)]\n",
    "    for i, box in enumerate(bplot['boxes']):\n",
    "        box.set(color='dimgray', linewidth =2)\n",
    "        box.set_alpha(alphas[i])\n",
    "\n",
    "    # ax1.set_title(\"Average number of roundtrips\")\n",
    "    ax1.set_title(\"Average number of roundtrips\",fontsize = 18)\n",
    "    ax1.set_xlabel(\"iteration\", fontsize = 14)\n",
    "    ax1.set_ylabel(r\"$\\overline{n_{rt}}$   [ns$^{-1}$]\", fontsize = 18)\n",
    "    \n",
    "    \n",
    "    \n",
    "    ax1.set_xticks(x)\n",
    "    \n",
    "    #ax1.set_xticks(x)\n",
    "\n",
    "    if (not isinstance(nRT_range, type(None))):\n",
    "        ax1.set_ylim(nRT_range)\n",
    "    \n",
    "\n",
    "    # Plot of the s-distribution\n",
    "    ax3.scatter(x=y_svalues, y=x_svalues, marker = 'x', c=\"black\", s = 4)    \n",
    " \n",
    "    ax3.set_xticks(x)\n",
    "\n",
    "    # ax3.set_title(\"s-distribution\")\n",
    "    ax3.set_xlabel(\"iteration\", fontsize = 14)\n",
    "    \n",
    "    ax3.set_ylabel(\"s-value  [a.u.]\", fontsize = 14)\n",
    "    ax3.set_title(\"s - distribution\",fontsize = 18)\n",
    "    ax3.set_yscale('log')\n",
    "    \n",
    "    \n",
    "    \n",
    "    # Making the bottom right corner plot\n",
    "    num_sopts = len(bar_heights)\n",
    "    num_states = (len(bar_heights[0]))\n",
    "\n",
    "    labels = [str(i) for i in range(1, num_states+1)]\n",
    "\n",
    "    # Making the offsets between the different bars\n",
    "\n",
    "    width = 1 / (niterations * 1.15)\n",
    "    # x = np.arange(num_states) + 0.5*num_states*width # the label locations\n",
    "\n",
    "    num = num_sopts-1\n",
    "\n",
    "    # finding proper offsets\n",
    "\n",
    "    if num%2==0:offsets = np.arange(-num/2, num/2+0.001, step =1)\n",
    "    else:offsets = np.arange(-num/2, num/2+0.001)\n",
    "    \n",
    "    active_qualitative_map_mligs = lambda num_ligs: plt.cm.viridis(np.linspace(0,1,num_ligs))\n",
    "    #active_qualitative_map_mligs = lambda num_ligs: plt.cm.rainbow(np.linspace(0,1,num_ligs))\n",
    "    colors = active_qualitative_map_mligs(num_states)\n",
    "        \n",
    "    for i in range(num_sopts):\n",
    "        normalized_heights = bar_heights[i]/np.sum(bar_heights[i])\n",
    "        percent_heights = [100*j for j in normalized_heights]\n",
    "        \n",
    "        summed = 0 \n",
    "        for j , ph in enumerate(percent_heights): # loop over states\n",
    "            if i == 0:\n",
    "                ax4.bar(x[i], ph, bottom = summed, color = colors[j], edgecolor = 'black' , linewidth = 1, \n",
    "                        label = f'State {j+1}')\n",
    "            else:\n",
    "                ax4.bar(x[i], ph, bottom = summed, color = colors[j], edgecolor = 'black' , linewidth = 1)\n",
    "            summed += ph\n",
    "                \n",
    "    ax4.set_xticks(x)\n",
    "    \n",
    "    # ax4.hlines(y= 100/num_states, xmin=xmin, xmax=xmax, color=\"darkgrey\", zorder = 0)\n",
    "    # ax4.set_xlim([0.5, 8.5])\n",
    "    \n",
    "    #ax4.set_title(\"State sampling at $s=1$\")\n",
    "    ax4.set_title(\"sampling at $s=1$\", fontsize = 18)\n",
    "    ax4.set_xlabel(\"iteration\", fontsize = 14)\n",
    "    ax4.set_ylabel(\"population [%]\",fontsize = 18)\n",
    "    \n",
    "    ax4.legend(fontsize = 10, loc = 'center right', fancybox=True, bbox_to_anchor=(1.35, 0.5))\n",
    "    \n",
    "    # use bbox_to_anchor=(1.25, 0.5) for other dataset\n",
    "    \n",
    "    for _axis in ax1, ax3, ax4:\n",
    "        for axis in ['top','bottom','left','right']:\n",
    "            _axis.spines[axis].set_linewidth(1.35)\n",
    "            \n",
    "        #_axis.tick_params(axis=\"both\",direction=\"in\")\n",
    "    return fig, all_roundtrips #, axes\n",
    "    "
   ]
  },
  {
   "cell_type": "code",
   "execution_count": 74,
   "id": "e33c41a8",
   "metadata": {},
   "outputs": [
    {
     "data": {
      "image/png": "[encoded data removed]",
      "text/plain": [
       "<Figure size 720x432 with 3 Axes>"
      ]
     },
     "metadata": {
      "needs_background": "light"
     },
     "output_type": "display_data"
    }
   ],
   "source": [
    "%matplotlib inline\n",
    "fig, all_rts = visualization_s_optimization_summary(sopt_data)"
   ]
  },
  {
   "cell_type": "code",
   "execution_count": 75,
   "id": "b6a7e39d",
   "metadata": {},
   "outputs": [],
   "source": [
    "fig.savefig('/home/cchampion/Downloads/typical_mixed_opt2.png', facecolor='white')"
   ]
  },
  {
   "cell_type": "code",
   "execution_count": 25,
   "id": "51c9fbcf",
   "metadata": {},
   "outputs": [
    {
     "data": {
      "text/plain": [
       "{}"
      ]
     },
     "execution_count": 25,
     "metadata": {},
     "output_type": "execute_result"
    }
   ],
   "source": [
    "sopt_data"
   ]
  }
 ],
 "metadata": {
  "kernelspec": {
   "display_name": "Python 3",
   "language": "python",
   "name": "python3"
  },
  "language_info": {
   "codemirror_mode": {
    "name": "ipython",
    "version": 3
   },
   "file_extension": ".py",
   "mimetype": "text/x-python",
   "name": "python",
   "nbconvert_exporter": "python",
   "pygments_lexer": "ipython3",
   "version": "3.6.15"
  }
 },
 "nbformat": 4,
 "nbformat_minor": 5
}
